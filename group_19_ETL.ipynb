{
 "cells": [
  {
   "cell_type": "markdown",
   "metadata": {},
   "source": [
    "# Final Project ETL\n",
    "    CIS 9440-UWA\n",
    "    Final Project Milestone 3\n",
    "    Group Number - 19\n"
   ]
  },
  {
   "cell_type": "markdown",
   "metadata": {},
   "source": [
    "## 1. Install and import necessary libraries"
   ]
  },
  {
   "cell_type": "code",
   "execution_count": 1,
   "metadata": {},
   "outputs": [],
   "source": [
    "import pandas as pd\n",
    "import numpy as np\n",
    "from sodapy import Socrata\n",
    "from google.cloud import bigquery\n",
    "from google.oauth2 import service_account\n",
    "import pyarrow"
   ]
  },
  {
   "cell_type": "markdown",
   "metadata": {},
   "source": [
    "## 2. Load data from NYC and NY OPEN DATA Socrata API"
   ]
  },
  {
   "cell_type": "markdown",
   "metadata": {},
   "source": [
    "####     2.a Load Data: NYPD Complaint Data Current (Year To Date)"
   ]
  },
  {
   "cell_type": "code",
   "execution_count": 2,
   "metadata": {},
   "outputs": [],
   "source": [
    "client = Socrata(\"data.cityofnewyork.us\",\n",
    "                  \"uF1U2FVkIhXT0q0AIiHkRjYEB\",)\n",
    "# load all the results, returned as JSON from API / converted to Python list of\n",
    "# dictionaries by sodapy.\n",
    "results = client.get(\"5uac-w243\", limit=450000)#enter your own app token\n",
    "\n",
    "# Convert to pandas DataFrame\n",
    "NYPD_COMPL = pd.DataFrame.from_records(results)"
   ]
  },
  {
   "cell_type": "markdown",
   "metadata": {},
   "source": [
    "####     2.b Load Data: New York State Statewide COVID-19 Testing"
   ]
  },
  {
   "cell_type": "code",
   "execution_count": 3,
   "metadata": {},
   "outputs": [],
   "source": [
    "client = Socrata(\"health.data.ny.gov\", \n",
    "                 \"uF1U2FVkIhXT0q0AIiHkRjYEB\",)#enter your own app token\n",
    "# load all the results, returned as JSON from API / converted to Python list of\n",
    "# dictionaries by sodapy.\n",
    "results = client.get(\"xdss-u53e\", limit=30000)\n",
    "                                                                                                                                                                                                                                                                                                                                                                                                                                                                                                                                                                                                                                                                                                                                                                                                                                                                                                                                                                                                                                                                                                                                                                                                                                                                                                                                                                                                                                                                                                           \n",
    "# Convert to pandas DataFrame\n",
    "NYS_COV19 = pd.DataFrame.from_records(results)"
   ]
  },
  {
   "cell_type": "code",
   "execution_count": 4,
   "metadata": {},
   "outputs": [
    {
     "data": {
      "text/html": [
       "<div>\n",
       "<style scoped>\n",
       "    .dataframe tbody tr th:only-of-type {\n",
       "        vertical-align: middle;\n",
       "    }\n",
       "\n",
       "    .dataframe tbody tr th {\n",
       "        vertical-align: top;\n",
       "    }\n",
       "\n",
       "    .dataframe thead th {\n",
       "        text-align: right;\n",
       "    }\n",
       "</style>\n",
       "<table border=\"1\" class=\"dataframe\">\n",
       "  <thead>\n",
       "    <tr style=\"text-align: right;\">\n",
       "      <th></th>\n",
       "      <th>cmplnt_num</th>\n",
       "      <th>addr_pct_cd</th>\n",
       "      <th>cmplnt_fr_dt</th>\n",
       "      <th>cmplnt_fr_tm</th>\n",
       "      <th>crm_atpt_cptd_cd</th>\n",
       "      <th>juris_desc</th>\n",
       "      <th>ky_cd</th>\n",
       "      <th>law_cat_cd</th>\n",
       "      <th>loc_of_occur_desc</th>\n",
       "      <th>ofns_desc</th>\n",
       "      <th>...</th>\n",
       "      <th>susp_age_group</th>\n",
       "      <th>susp_race</th>\n",
       "      <th>susp_sex</th>\n",
       "      <th>cmplnt_to_dt</th>\n",
       "      <th>cmplnt_to_tm</th>\n",
       "      <th>housing_psa</th>\n",
       "      <th>hadevelopt</th>\n",
       "      <th>station_name</th>\n",
       "      <th>transit_district</th>\n",
       "      <th>parks_nm</th>\n",
       "    </tr>\n",
       "  </thead>\n",
       "  <tbody>\n",
       "    <tr>\n",
       "      <th>0</th>\n",
       "      <td>885776788</td>\n",
       "      <td>66</td>\n",
       "      <td>2020-12-23T00:00:00.000</td>\n",
       "      <td>19:50:00</td>\n",
       "      <td>COMPLETED</td>\n",
       "      <td>N.Y. POLICE DEPT</td>\n",
       "      <td>101</td>\n",
       "      <td>FELONY</td>\n",
       "      <td>OUTSIDE</td>\n",
       "      <td>MURDER &amp; NON-NEGL. MANSLAUGHTER</td>\n",
       "      <td>...</td>\n",
       "      <td>NaN</td>\n",
       "      <td>NaN</td>\n",
       "      <td>NaN</td>\n",
       "      <td>NaN</td>\n",
       "      <td>NaN</td>\n",
       "      <td>NaN</td>\n",
       "      <td>NaN</td>\n",
       "      <td>NaN</td>\n",
       "      <td>NaN</td>\n",
       "      <td>NaN</td>\n",
       "    </tr>\n",
       "    <tr>\n",
       "      <th>1</th>\n",
       "      <td>350637195</td>\n",
       "      <td>77</td>\n",
       "      <td>2020-12-21T00:00:00.000</td>\n",
       "      <td>01:10:00</td>\n",
       "      <td>COMPLETED</td>\n",
       "      <td>N.Y. POLICE DEPT</td>\n",
       "      <td>101</td>\n",
       "      <td>FELONY</td>\n",
       "      <td>INSIDE</td>\n",
       "      <td>MURDER &amp; NON-NEGL. MANSLAUGHTER</td>\n",
       "      <td>...</td>\n",
       "      <td>NaN</td>\n",
       "      <td>NaN</td>\n",
       "      <td>NaN</td>\n",
       "      <td>NaN</td>\n",
       "      <td>NaN</td>\n",
       "      <td>NaN</td>\n",
       "      <td>NaN</td>\n",
       "      <td>NaN</td>\n",
       "      <td>NaN</td>\n",
       "      <td>NaN</td>\n",
       "    </tr>\n",
       "    <tr>\n",
       "      <th>2</th>\n",
       "      <td>347843168</td>\n",
       "      <td>43</td>\n",
       "      <td>2020-11-22T00:00:00.000</td>\n",
       "      <td>22:00:00</td>\n",
       "      <td>COMPLETED</td>\n",
       "      <td>N.Y. POLICE DEPT</td>\n",
       "      <td>104</td>\n",
       "      <td>FELONY</td>\n",
       "      <td>NaN</td>\n",
       "      <td>RAPE</td>\n",
       "      <td>...</td>\n",
       "      <td>UNKNOWN</td>\n",
       "      <td>UNKNOWN</td>\n",
       "      <td>U</td>\n",
       "      <td>NaN</td>\n",
       "      <td>NaN</td>\n",
       "      <td>NaN</td>\n",
       "      <td>NaN</td>\n",
       "      <td>NaN</td>\n",
       "      <td>NaN</td>\n",
       "      <td>NaN</td>\n",
       "    </tr>\n",
       "    <tr>\n",
       "      <th>3</th>\n",
       "      <td>197941396</td>\n",
       "      <td>47</td>\n",
       "      <td>2020-11-22T00:00:00.000</td>\n",
       "      <td>09:50:00</td>\n",
       "      <td>COMPLETED</td>\n",
       "      <td>N.Y. POLICE DEPT</td>\n",
       "      <td>101</td>\n",
       "      <td>FELONY</td>\n",
       "      <td>INSIDE</td>\n",
       "      <td>MURDER &amp; NON-NEGL. MANSLAUGHTER</td>\n",
       "      <td>...</td>\n",
       "      <td>25-44</td>\n",
       "      <td>BLACK</td>\n",
       "      <td>M</td>\n",
       "      <td>NaN</td>\n",
       "      <td>NaN</td>\n",
       "      <td>NaN</td>\n",
       "      <td>NaN</td>\n",
       "      <td>NaN</td>\n",
       "      <td>NaN</td>\n",
       "      <td>NaN</td>\n",
       "    </tr>\n",
       "    <tr>\n",
       "      <th>4</th>\n",
       "      <td>298404927</td>\n",
       "      <td>25</td>\n",
       "      <td>2020-11-21T00:00:00.000</td>\n",
       "      <td>15:38:00</td>\n",
       "      <td>COMPLETED</td>\n",
       "      <td>N.Y. HOUSING POLICE</td>\n",
       "      <td>101</td>\n",
       "      <td>FELONY</td>\n",
       "      <td>OUTSIDE</td>\n",
       "      <td>MURDER &amp; NON-NEGL. MANSLAUGHTER</td>\n",
       "      <td>...</td>\n",
       "      <td>NaN</td>\n",
       "      <td>NaN</td>\n",
       "      <td>NaN</td>\n",
       "      <td>NaN</td>\n",
       "      <td>NaN</td>\n",
       "      <td>NaN</td>\n",
       "      <td>NaN</td>\n",
       "      <td>NaN</td>\n",
       "      <td>NaN</td>\n",
       "      <td>NaN</td>\n",
       "    </tr>\n",
       "  </tbody>\n",
       "</table>\n",
       "<p>5 rows × 41 columns</p>\n",
       "</div>"
      ],
      "text/plain": [
       "  cmplnt_num addr_pct_cd             cmplnt_fr_dt cmplnt_fr_tm  \\\n",
       "0  885776788          66  2020-12-23T00:00:00.000     19:50:00   \n",
       "1  350637195          77  2020-12-21T00:00:00.000     01:10:00   \n",
       "2  347843168          43  2020-11-22T00:00:00.000     22:00:00   \n",
       "3  197941396          47  2020-11-22T00:00:00.000     09:50:00   \n",
       "4  298404927          25  2020-11-21T00:00:00.000     15:38:00   \n",
       "\n",
       "  crm_atpt_cptd_cd           juris_desc ky_cd law_cat_cd loc_of_occur_desc  \\\n",
       "0        COMPLETED     N.Y. POLICE DEPT   101     FELONY           OUTSIDE   \n",
       "1        COMPLETED     N.Y. POLICE DEPT   101     FELONY            INSIDE   \n",
       "2        COMPLETED     N.Y. POLICE DEPT   104     FELONY               NaN   \n",
       "3        COMPLETED     N.Y. POLICE DEPT   101     FELONY            INSIDE   \n",
       "4        COMPLETED  N.Y. HOUSING POLICE   101     FELONY           OUTSIDE   \n",
       "\n",
       "                         ofns_desc  ... susp_age_group susp_race susp_sex  \\\n",
       "0  MURDER & NON-NEGL. MANSLAUGHTER  ...            NaN       NaN      NaN   \n",
       "1  MURDER & NON-NEGL. MANSLAUGHTER  ...            NaN       NaN      NaN   \n",
       "2                             RAPE  ...        UNKNOWN   UNKNOWN        U   \n",
       "3  MURDER & NON-NEGL. MANSLAUGHTER  ...          25-44     BLACK        M   \n",
       "4  MURDER & NON-NEGL. MANSLAUGHTER  ...            NaN       NaN      NaN   \n",
       "\n",
       "  cmplnt_to_dt cmplnt_to_tm housing_psa hadevelopt station_name  \\\n",
       "0          NaN          NaN         NaN        NaN          NaN   \n",
       "1          NaN          NaN         NaN        NaN          NaN   \n",
       "2          NaN          NaN         NaN        NaN          NaN   \n",
       "3          NaN          NaN         NaN        NaN          NaN   \n",
       "4          NaN          NaN         NaN        NaN          NaN   \n",
       "\n",
       "  transit_district parks_nm  \n",
       "0              NaN      NaN  \n",
       "1              NaN      NaN  \n",
       "2              NaN      NaN  \n",
       "3              NaN      NaN  \n",
       "4              NaN      NaN  \n",
       "\n",
       "[5 rows x 41 columns]"
      ]
     },
     "execution_count": 4,
     "metadata": {},
     "output_type": "execute_result"
    }
   ],
   "source": [
    "NYPD_COMPL.head()"
   ]
  },
  {
   "cell_type": "code",
   "execution_count": 5,
   "metadata": {},
   "outputs": [
    {
     "data": {
      "text/plain": [
       "(413412, 41)"
      ]
     },
     "execution_count": 5,
     "metadata": {},
     "output_type": "execute_result"
    }
   ],
   "source": [
    "NYPD_COMPL.shape"
   ]
  },
  {
   "cell_type": "code",
   "execution_count": 6,
   "metadata": {},
   "outputs": [
    {
     "data": {
      "text/html": [
       "<div>\n",
       "<style scoped>\n",
       "    .dataframe tbody tr th:only-of-type {\n",
       "        vertical-align: middle;\n",
       "    }\n",
       "\n",
       "    .dataframe tbody tr th {\n",
       "        vertical-align: top;\n",
       "    }\n",
       "\n",
       "    .dataframe thead th {\n",
       "        text-align: right;\n",
       "    }\n",
       "</style>\n",
       "<table border=\"1\" class=\"dataframe\">\n",
       "  <thead>\n",
       "    <tr style=\"text-align: right;\">\n",
       "      <th></th>\n",
       "      <th>test_date</th>\n",
       "      <th>county</th>\n",
       "      <th>new_positives</th>\n",
       "      <th>cumulative_number_of_positives</th>\n",
       "      <th>total_number_of_tests</th>\n",
       "      <th>cumulative_number_of_tests</th>\n",
       "    </tr>\n",
       "  </thead>\n",
       "  <tbody>\n",
       "    <tr>\n",
       "      <th>0</th>\n",
       "      <td>2020-03-01T00:00:00.000</td>\n",
       "      <td>Albany</td>\n",
       "      <td>0</td>\n",
       "      <td>0</td>\n",
       "      <td>0</td>\n",
       "      <td>0</td>\n",
       "    </tr>\n",
       "    <tr>\n",
       "      <th>1</th>\n",
       "      <td>2020-03-02T00:00:00.000</td>\n",
       "      <td>Albany</td>\n",
       "      <td>0</td>\n",
       "      <td>0</td>\n",
       "      <td>0</td>\n",
       "      <td>0</td>\n",
       "    </tr>\n",
       "    <tr>\n",
       "      <th>2</th>\n",
       "      <td>2020-03-03T00:00:00.000</td>\n",
       "      <td>Albany</td>\n",
       "      <td>0</td>\n",
       "      <td>0</td>\n",
       "      <td>0</td>\n",
       "      <td>0</td>\n",
       "    </tr>\n",
       "    <tr>\n",
       "      <th>3</th>\n",
       "      <td>2020-03-04T00:00:00.000</td>\n",
       "      <td>Albany</td>\n",
       "      <td>0</td>\n",
       "      <td>0</td>\n",
       "      <td>0</td>\n",
       "      <td>0</td>\n",
       "    </tr>\n",
       "    <tr>\n",
       "      <th>4</th>\n",
       "      <td>2020-03-05T00:00:00.000</td>\n",
       "      <td>Albany</td>\n",
       "      <td>0</td>\n",
       "      <td>0</td>\n",
       "      <td>3</td>\n",
       "      <td>3</td>\n",
       "    </tr>\n",
       "  </tbody>\n",
       "</table>\n",
       "</div>"
      ],
      "text/plain": [
       "                 test_date  county new_positives  \\\n",
       "0  2020-03-01T00:00:00.000  Albany             0   \n",
       "1  2020-03-02T00:00:00.000  Albany             0   \n",
       "2  2020-03-03T00:00:00.000  Albany             0   \n",
       "3  2020-03-04T00:00:00.000  Albany             0   \n",
       "4  2020-03-05T00:00:00.000  Albany             0   \n",
       "\n",
       "  cumulative_number_of_positives total_number_of_tests  \\\n",
       "0                              0                     0   \n",
       "1                              0                     0   \n",
       "2                              0                     0   \n",
       "3                              0                     0   \n",
       "4                              0                     3   \n",
       "\n",
       "  cumulative_number_of_tests  \n",
       "0                          0  \n",
       "1                          0  \n",
       "2                          0  \n",
       "3                          0  \n",
       "4                          3  "
      ]
     },
     "execution_count": 6,
     "metadata": {},
     "output_type": "execute_result"
    }
   ],
   "source": [
    "NYS_COV19.head()"
   ]
  },
  {
   "cell_type": "code",
   "execution_count": 7,
   "metadata": {},
   "outputs": [
    {
     "data": {
      "text/plain": [
       "(25854, 6)"
      ]
     },
     "execution_count": 7,
     "metadata": {},
     "output_type": "execute_result"
    }
   ],
   "source": [
    "NYS_COV19.shape"
   ]
  },
  {
   "cell_type": "markdown",
   "metadata": {},
   "source": [
    "## 3. Extract data needed for our project"
   ]
  },
  {
   "cell_type": "markdown",
   "metadata": {},
   "source": [
    "####     3.a Extract data from NYPD Complaint Data Current (Year To Date)"
   ]
  },
  {
   "cell_type": "code",
   "execution_count": 8,
   "metadata": {},
   "outputs": [
    {
     "data": {
      "text/plain": [
       "Index(['cmplnt_num', 'addr_pct_cd', 'cmplnt_fr_dt', 'cmplnt_fr_tm',\n",
       "       'crm_atpt_cptd_cd', 'juris_desc', 'ky_cd', 'law_cat_cd',\n",
       "       'loc_of_occur_desc', 'ofns_desc', 'rpt_dt', 'vic_age_group', 'vic_race',\n",
       "       'vic_sex', 'x_coord_cd', 'y_coord_cd', 'latitude', 'longitude',\n",
       "       'lat_lon', 'geocoded_column', ':@computed_region_efsh_h5xi',\n",
       "       ':@computed_region_f5dn_yrer', ':@computed_region_yeji_bk3q',\n",
       "       ':@computed_region_92fq_4b7q', ':@computed_region_sbqj_enih', 'boro_nm',\n",
       "       'jurisdiction_code', 'patrol_boro', 'pd_cd', 'pd_desc', 'prem_typ_desc',\n",
       "       'susp_age_group', 'susp_race', 'susp_sex', 'cmplnt_to_dt',\n",
       "       'cmplnt_to_tm', 'housing_psa', 'hadevelopt', 'station_name',\n",
       "       'transit_district', 'parks_nm'],\n",
       "      dtype='object')"
      ]
     },
     "execution_count": 8,
     "metadata": {},
     "output_type": "execute_result"
    }
   ],
   "source": [
    "NYPD_COMPL.columns"
   ]
  },
  {
   "cell_type": "code",
   "execution_count": 9,
   "metadata": {},
   "outputs": [
    {
     "data": {
      "text/html": [
       "<div>\n",
       "<style scoped>\n",
       "    .dataframe tbody tr th:only-of-type {\n",
       "        vertical-align: middle;\n",
       "    }\n",
       "\n",
       "    .dataframe tbody tr th {\n",
       "        vertical-align: top;\n",
       "    }\n",
       "\n",
       "    .dataframe thead th {\n",
       "        text-align: right;\n",
       "    }\n",
       "</style>\n",
       "<table border=\"1\" class=\"dataframe\">\n",
       "  <thead>\n",
       "    <tr style=\"text-align: right;\">\n",
       "      <th></th>\n",
       "      <th>cmplnt_fr_dt</th>\n",
       "      <th>boro_nm</th>\n",
       "      <th>law_cat_cd</th>\n",
       "      <th>ofns_desc</th>\n",
       "      <th>susp_age_group</th>\n",
       "      <th>susp_race</th>\n",
       "      <th>susp_sex</th>\n",
       "      <th>vic_age_group</th>\n",
       "      <th>vic_race</th>\n",
       "      <th>vic_sex</th>\n",
       "    </tr>\n",
       "  </thead>\n",
       "  <tbody>\n",
       "    <tr>\n",
       "      <th>0</th>\n",
       "      <td>2020-12-23T00:00:00.000</td>\n",
       "      <td>NaN</td>\n",
       "      <td>FELONY</td>\n",
       "      <td>MURDER &amp; NON-NEGL. MANSLAUGHTER</td>\n",
       "      <td>NaN</td>\n",
       "      <td>NaN</td>\n",
       "      <td>NaN</td>\n",
       "      <td>18-24</td>\n",
       "      <td>BLACK</td>\n",
       "      <td>M</td>\n",
       "    </tr>\n",
       "    <tr>\n",
       "      <th>1</th>\n",
       "      <td>2020-12-21T00:00:00.000</td>\n",
       "      <td>NaN</td>\n",
       "      <td>FELONY</td>\n",
       "      <td>MURDER &amp; NON-NEGL. MANSLAUGHTER</td>\n",
       "      <td>NaN</td>\n",
       "      <td>NaN</td>\n",
       "      <td>NaN</td>\n",
       "      <td>25-44</td>\n",
       "      <td>BLACK</td>\n",
       "      <td>M</td>\n",
       "    </tr>\n",
       "    <tr>\n",
       "      <th>2</th>\n",
       "      <td>2020-11-22T00:00:00.000</td>\n",
       "      <td>BRONX</td>\n",
       "      <td>FELONY</td>\n",
       "      <td>RAPE</td>\n",
       "      <td>UNKNOWN</td>\n",
       "      <td>UNKNOWN</td>\n",
       "      <td>U</td>\n",
       "      <td>25-44</td>\n",
       "      <td>BLACK</td>\n",
       "      <td>F</td>\n",
       "    </tr>\n",
       "    <tr>\n",
       "      <th>3</th>\n",
       "      <td>2020-11-22T00:00:00.000</td>\n",
       "      <td>NaN</td>\n",
       "      <td>FELONY</td>\n",
       "      <td>MURDER &amp; NON-NEGL. MANSLAUGHTER</td>\n",
       "      <td>25-44</td>\n",
       "      <td>BLACK</td>\n",
       "      <td>M</td>\n",
       "      <td>25-44</td>\n",
       "      <td>BLACK</td>\n",
       "      <td>F</td>\n",
       "    </tr>\n",
       "    <tr>\n",
       "      <th>4</th>\n",
       "      <td>2020-11-21T00:00:00.000</td>\n",
       "      <td>NaN</td>\n",
       "      <td>FELONY</td>\n",
       "      <td>MURDER &amp; NON-NEGL. MANSLAUGHTER</td>\n",
       "      <td>NaN</td>\n",
       "      <td>NaN</td>\n",
       "      <td>NaN</td>\n",
       "      <td>18-24</td>\n",
       "      <td>BLACK HISPANIC</td>\n",
       "      <td>M</td>\n",
       "    </tr>\n",
       "  </tbody>\n",
       "</table>\n",
       "</div>"
      ],
      "text/plain": [
       "              cmplnt_fr_dt boro_nm law_cat_cd  \\\n",
       "0  2020-12-23T00:00:00.000     NaN     FELONY   \n",
       "1  2020-12-21T00:00:00.000     NaN     FELONY   \n",
       "2  2020-11-22T00:00:00.000   BRONX     FELONY   \n",
       "3  2020-11-22T00:00:00.000     NaN     FELONY   \n",
       "4  2020-11-21T00:00:00.000     NaN     FELONY   \n",
       "\n",
       "                         ofns_desc susp_age_group susp_race susp_sex  \\\n",
       "0  MURDER & NON-NEGL. MANSLAUGHTER            NaN       NaN      NaN   \n",
       "1  MURDER & NON-NEGL. MANSLAUGHTER            NaN       NaN      NaN   \n",
       "2                             RAPE        UNKNOWN   UNKNOWN        U   \n",
       "3  MURDER & NON-NEGL. MANSLAUGHTER          25-44     BLACK        M   \n",
       "4  MURDER & NON-NEGL. MANSLAUGHTER            NaN       NaN      NaN   \n",
       "\n",
       "  vic_age_group        vic_race vic_sex  \n",
       "0         18-24           BLACK       M  \n",
       "1         25-44           BLACK       M  \n",
       "2         25-44           BLACK       F  \n",
       "3         25-44           BLACK       F  \n",
       "4         18-24  BLACK HISPANIC       M  "
      ]
     },
     "execution_count": 9,
     "metadata": {},
     "output_type": "execute_result"
    }
   ],
   "source": [
    "NYPD_COMPL_df = NYPD_COMPL[[\"cmplnt_fr_dt\",\"boro_nm\",\"law_cat_cd\",\"ofns_desc\",\"susp_age_group\",\n",
    "                            \"susp_race\",\"susp_sex\",\"vic_age_group\",\"vic_race\",\"vic_sex\"]].copy()\n",
    "NYPD_COMPL_df.head()"
   ]
  },
  {
   "cell_type": "markdown",
   "metadata": {},
   "source": [
    "####     3.b  Extract data from New York State Statewide COVID-19 Testing"
   ]
  },
  {
   "cell_type": "code",
   "execution_count": 10,
   "metadata": {},
   "outputs": [
    {
     "data": {
      "text/plain": [
       "Index(['test_date', 'county', 'new_positives',\n",
       "       'cumulative_number_of_positives', 'total_number_of_tests',\n",
       "       'cumulative_number_of_tests'],\n",
       "      dtype='object')"
      ]
     },
     "execution_count": 10,
     "metadata": {},
     "output_type": "execute_result"
    }
   ],
   "source": [
    "NYS_COV19.columns"
   ]
  },
  {
   "cell_type": "code",
   "execution_count": 11,
   "metadata": {},
   "outputs": [
    {
     "data": {
      "text/html": [
       "<div>\n",
       "<style scoped>\n",
       "    .dataframe tbody tr th:only-of-type {\n",
       "        vertical-align: middle;\n",
       "    }\n",
       "\n",
       "    .dataframe tbody tr th {\n",
       "        vertical-align: top;\n",
       "    }\n",
       "\n",
       "    .dataframe thead th {\n",
       "        text-align: right;\n",
       "    }\n",
       "</style>\n",
       "<table border=\"1\" class=\"dataframe\">\n",
       "  <thead>\n",
       "    <tr style=\"text-align: right;\">\n",
       "      <th></th>\n",
       "      <th>test_date</th>\n",
       "      <th>county</th>\n",
       "      <th>new_positives</th>\n",
       "      <th>total_number_of_tests</th>\n",
       "    </tr>\n",
       "  </thead>\n",
       "  <tbody>\n",
       "    <tr>\n",
       "      <th>0</th>\n",
       "      <td>2020-03-01T00:00:00.000</td>\n",
       "      <td>Albany</td>\n",
       "      <td>0</td>\n",
       "      <td>0</td>\n",
       "    </tr>\n",
       "    <tr>\n",
       "      <th>1</th>\n",
       "      <td>2020-03-02T00:00:00.000</td>\n",
       "      <td>Albany</td>\n",
       "      <td>0</td>\n",
       "      <td>0</td>\n",
       "    </tr>\n",
       "    <tr>\n",
       "      <th>2</th>\n",
       "      <td>2020-03-03T00:00:00.000</td>\n",
       "      <td>Albany</td>\n",
       "      <td>0</td>\n",
       "      <td>0</td>\n",
       "    </tr>\n",
       "    <tr>\n",
       "      <th>3</th>\n",
       "      <td>2020-03-04T00:00:00.000</td>\n",
       "      <td>Albany</td>\n",
       "      <td>0</td>\n",
       "      <td>0</td>\n",
       "    </tr>\n",
       "    <tr>\n",
       "      <th>4</th>\n",
       "      <td>2020-03-05T00:00:00.000</td>\n",
       "      <td>Albany</td>\n",
       "      <td>0</td>\n",
       "      <td>3</td>\n",
       "    </tr>\n",
       "  </tbody>\n",
       "</table>\n",
       "</div>"
      ],
      "text/plain": [
       "                 test_date  county new_positives total_number_of_tests\n",
       "0  2020-03-01T00:00:00.000  Albany             0                     0\n",
       "1  2020-03-02T00:00:00.000  Albany             0                     0\n",
       "2  2020-03-03T00:00:00.000  Albany             0                     0\n",
       "3  2020-03-04T00:00:00.000  Albany             0                     0\n",
       "4  2020-03-05T00:00:00.000  Albany             0                     3"
      ]
     },
     "execution_count": 11,
     "metadata": {},
     "output_type": "execute_result"
    }
   ],
   "source": [
    "NYS_COV19_df = NYS_COV19[[\"test_date\",\"county\",\"new_positives\",\"total_number_of_tests\"]].copy()\n",
    "NYS_COV19_df.head()"
   ]
  },
  {
   "cell_type": "markdown",
   "metadata": {},
   "source": [
    "## 4. Data Cleansing "
   ]
  },
  {
   "cell_type": "markdown",
   "metadata": {},
   "source": [
    "####   4.a Data cleansing on  NYPD Complaint Data Current (Year To Date)"
   ]
  },
  {
   "cell_type": "code",
   "execution_count": 12,
   "metadata": {},
   "outputs": [
    {
     "data": {
      "text/plain": [
       "(318265, 10)"
      ]
     },
     "execution_count": 12,
     "metadata": {},
     "output_type": "execute_result"
    }
   ],
   "source": [
    "NYPD_COMPL_df.dropna(inplace=True)\n",
    "NYPD_COMPL_df.shape"
   ]
  },
  {
   "cell_type": "code",
   "execution_count": 13,
   "metadata": {},
   "outputs": [
    {
     "data": {
      "text/plain": [
       "cmplnt_fr_dt      0\n",
       "boro_nm           0\n",
       "law_cat_cd        0\n",
       "ofns_desc         0\n",
       "susp_age_group    0\n",
       "susp_race         0\n",
       "susp_sex          0\n",
       "vic_age_group     0\n",
       "vic_race          0\n",
       "vic_sex           0\n",
       "dtype: int64"
      ]
     },
     "execution_count": 13,
     "metadata": {},
     "output_type": "execute_result"
    }
   ],
   "source": [
    "NYPD_COMPL_df.isna().sum()"
   ]
  },
  {
   "cell_type": "code",
   "execution_count": 14,
   "metadata": {},
   "outputs": [
    {
     "data": {
      "text/plain": [
       "BLACK                             87548\n",
       "UNKNOWN                           81332\n",
       "WHITE HISPANIC                    61267\n",
       "WHITE                             48210\n",
       "ASIAN / PACIFIC ISLANDER          24271\n",
       "BLACK HISPANIC                    14591\n",
       "AMERICAN INDIAN/ALASKAN NATIVE     1046\n",
       "Name: vic_race, dtype: int64"
      ]
     },
     "execution_count": 14,
     "metadata": {},
     "output_type": "execute_result"
    }
   ],
   "source": [
    "NYPD_COMPL_df.vic_race.value_counts()"
   ]
  },
  {
   "cell_type": "code",
   "execution_count": 15,
   "metadata": {},
   "outputs": [
    {
     "data": {
      "text/plain": [
       "BROOKLYN         87971\n",
       "MANHATTAN        80547\n",
       "BRONX            71563\n",
       "QUEENS           66558\n",
       "STATEN ISLAND    11626\n",
       "Name: boro_nm, dtype: int64"
      ]
     },
     "execution_count": 15,
     "metadata": {},
     "output_type": "execute_result"
    }
   ],
   "source": [
    "NYPD_COMPL_df.boro_nm.value_counts()"
   ]
  },
  {
   "cell_type": "code",
   "execution_count": 16,
   "metadata": {},
   "outputs": [
    {
     "data": {
      "text/plain": [
       "array(['BRONX', 'QUEENS', 'MANHATTAN', 'BROOKLYN', 'STATEN ISLAND'],\n",
       "      dtype=object)"
      ]
     },
     "execution_count": 16,
     "metadata": {},
     "output_type": "execute_result"
    }
   ],
   "source": [
    "NYPD_COMPL_df.boro_nm.unique()"
   ]
  },
  {
   "cell_type": "code",
   "execution_count": 17,
   "metadata": {
    "scrolled": true
   },
   "outputs": [
    {
     "data": {
      "text/plain": [
       "BLACK                             115077\n",
       "UNKNOWN                            96059\n",
       "WHITE HISPANIC                     50569\n",
       "WHITE                              29140\n",
       "BLACK HISPANIC                     15946\n",
       "ASIAN / PACIFIC ISLANDER           10855\n",
       "AMERICAN INDIAN/ALASKAN NATIVE       619\n",
       "Name: susp_race, dtype: int64"
      ]
     },
     "execution_count": 17,
     "metadata": {},
     "output_type": "execute_result"
    }
   ],
   "source": [
    "NYPD_COMPL_df.susp_race.value_counts()"
   ]
  },
  {
   "cell_type": "code",
   "execution_count": 18,
   "metadata": {},
   "outputs": [
    {
     "data": {
      "text/plain": [
       "25-44      124364\n",
       "UNKNOWN     74370\n",
       "45-64       64090\n",
       "18-24       31076\n",
       "65+         13619\n",
       "<18         10728\n",
       "-948            2\n",
       "-1              1\n",
       "-963            1\n",
       "-967            1\n",
       "1016            1\n",
       "-938            1\n",
       "932             1\n",
       "943             1\n",
       "-31             1\n",
       "949             1\n",
       "938             1\n",
       "-965            1\n",
       "-968            1\n",
       "-973            1\n",
       "-60             1\n",
       "-958            1\n",
       "-2              1\n",
       "Name: vic_age_group, dtype: int64"
      ]
     },
     "execution_count": 18,
     "metadata": {},
     "output_type": "execute_result"
    }
   ],
   "source": [
    "NYPD_COMPL_df.vic_age_group.value_counts()"
   ]
  },
  {
   "cell_type": "code",
   "execution_count": 19,
   "metadata": {},
   "outputs": [
    {
     "data": {
      "text/plain": [
       "UNKNOWN    144584\n",
       "25-44      100238\n",
       "45-64       33880\n",
       "18-24       29613\n",
       "<18          6617\n",
       "65+          3312\n",
       "2020           10\n",
       "2019            2\n",
       "-977            1\n",
       "1020            1\n",
       "-962            1\n",
       "-942            1\n",
       "-12             1\n",
       "-71             1\n",
       "-928            1\n",
       "-965            1\n",
       "1925            1\n",
       "Name: susp_age_group, dtype: int64"
      ]
     },
     "execution_count": 19,
     "metadata": {},
     "output_type": "execute_result"
    }
   ],
   "source": [
    "NYPD_COMPL_df.susp_age_group.value_counts()"
   ]
  },
  {
   "cell_type": "code",
   "execution_count": 20,
   "metadata": {},
   "outputs": [],
   "source": [
    "age_group=[\"UNKNOWN\",\"25-44\",\"18-24\",\"<18\",\"65+\",\"45-64\"]\n",
    "NYPD_COMPL_df=NYPD_COMPL_df[NYPD_COMPL_df['susp_age_group'].isin(age_group)]\n",
    "NYPD_COMPL_df=NYPD_COMPL_df[NYPD_COMPL_df['vic_age_group'].isin(age_group)]\n",
    "NYPD_COMPL_df.reset_index(inplace=True,drop=True)"
   ]
  },
  {
   "cell_type": "code",
   "execution_count": 21,
   "metadata": {},
   "outputs": [
    {
     "data": {
      "text/plain": [
       "F    164503\n",
       "M    152219\n",
       "D     63160\n",
       "E     33529\n",
       "Name: vic_sex, dtype: int64"
      ]
     },
     "execution_count": 21,
     "metadata": {},
     "output_type": "execute_result"
    }
   ],
   "source": [
    "NYPD_COMPL.vic_sex.value_counts()"
   ]
  },
  {
   "cell_type": "code",
   "execution_count": 22,
   "metadata": {},
   "outputs": [
    {
     "data": {
      "text/plain": [
       "UNKNOWN    144577\n",
       "25-44      100232\n",
       "45-64       33877\n",
       "18-24       29612\n",
       "<18          6617\n",
       "65+          3311\n",
       "Name: susp_age_group, dtype: int64"
      ]
     },
     "execution_count": 22,
     "metadata": {},
     "output_type": "execute_result"
    }
   ],
   "source": [
    "NYPD_COMPL_df.susp_age_group.value_counts()"
   ]
  },
  {
   "cell_type": "code",
   "execution_count": 23,
   "metadata": {},
   "outputs": [
    {
     "data": {
      "text/plain": [
       "HARRASSMENT 2                           63150\n",
       "PETIT LARCENY                           54898\n",
       "ASSAULT 3 & RELATED OFFENSES            40806\n",
       "CRIMINAL MISCHIEF & RELATED OF          27371\n",
       "GRAND LARCENY                           21453\n",
       "FELONY ASSAULT                          19003\n",
       "OFF. AGNST PUB ORD SENSBLTY &           14263\n",
       "ROBBERY                                 12617\n",
       "MISCELLANEOUS PENAL LAW                 11753\n",
       "BURGLARY                                10473\n",
       "DANGEROUS DRUGS                          6562\n",
       "OFFENSES AGAINST PUBLIC ADMINI           4994\n",
       "SEX CRIMES                               4457\n",
       "GRAND LARCENY OF MOTOR VEHICLE           4423\n",
       "VEHICLE AND TRAFFIC LAWS                 3529\n",
       "DANGEROUS WEAPONS                        2788\n",
       "INTOXICATED & IMPAIRED DRIVING           1871\n",
       "CRIMINAL TRESPASS                        1788\n",
       "FORGERY                                  1616\n",
       "RAPE                                     1392\n",
       "THEFT-FRAUD                              1339\n",
       "UNAUTHORIZED USE OF A VEHICLE            1232\n",
       "POSSESSION OF STOLEN PROPERTY             856\n",
       "ADMINISTRATIVE CODE                       812\n",
       "OFFENSES AGAINST THE PERSON               784\n",
       "FRAUDS                                    746\n",
       "OFFENSES INVOLVING FRAUD                  741\n",
       "OTHER OFFENSES RELATED TO THEF            534\n",
       "ARSON                                     388\n",
       "NYS LAWS-UNCLASSIFIED FELONY              360\n",
       "OTHER STATE LAWS (NON PENAL LA            223\n",
       "BURGLAR'S TOOLS                           186\n",
       "PROSTITUTION & RELATED OFFENSES           169\n",
       "GAMBLING                                   93\n",
       "PETIT LARCENY OF MOTOR VEHICLE             92\n",
       "THEFT OF SERVICES                          83\n",
       "KIDNAPPING & RELATED OFFENSES              76\n",
       "ALCOHOLIC BEVERAGE CONTROL LAW             64\n",
       "AGRICULTURE & MRKTS LAW-UNCLASSIFIED       55\n",
       "FRAUDULENT ACCOSTING                       45\n",
       "OFFENSES AGAINST PUBLIC SAFETY             25\n",
       "OFFENSES RELATED TO CHILDREN               17\n",
       "CHILD ABANDONMENT/NON SUPPORT              16\n",
       "DISORDERLY CONDUCT                         15\n",
       "ENDAN WELFARE INCOMP                       13\n",
       "ANTICIPATORY OFFENSES                      12\n",
       "HOMICIDE-NEGLIGENT,UNCLASSIFIE             12\n",
       "FELONY SEX CRIMES                           7\n",
       "OTHER STATE LAWS                            6\n",
       "JOSTLING                                    5\n",
       "NEW YORK CITY HEALTH CODE                   4\n",
       "KIDNAPPING                                  3\n",
       "ESCAPE 3                                    3\n",
       "UNLAWFUL POSS. WEAP. ON SCHOOL              1\n",
       "LOITERING/GAMBLING (CARDS, DIC              1\n",
       "FORTUNE TELLING                             1\n",
       "Name: ofns_desc, dtype: int64"
      ]
     },
     "execution_count": 23,
     "metadata": {},
     "output_type": "execute_result"
    }
   ],
   "source": [
    "NYPD_COMPL_df.ofns_desc.value_counts()"
   ]
  },
  {
   "cell_type": "code",
   "execution_count": 24,
   "metadata": {},
   "outputs": [],
   "source": [
    "NYPD_COMPL_df=NYPD_COMPL_df[NYPD_COMPL_df[\"cmplnt_fr_dt\"]>=\"2020-01-01T00:00:00.000\"]"
   ]
  },
  {
   "cell_type": "code",
   "execution_count": 25,
   "metadata": {},
   "outputs": [],
   "source": [
    "NYPD_COMPL_df=NYPD_COMPL_df.drop_duplicates()"
   ]
  },
  {
   "cell_type": "markdown",
   "metadata": {},
   "source": [
    "####   4.a Data cleansing on  New York State Statewide COVID-19 Testing"
   ]
  },
  {
   "cell_type": "code",
   "execution_count": 26,
   "metadata": {},
   "outputs": [
    {
     "data": {
      "text/plain": [
       "'2020-12-31T00:00:00.000'"
      ]
     },
     "execution_count": 26,
     "metadata": {},
     "output_type": "execute_result"
    }
   ],
   "source": [
    "NYPD_COMPL_df.cmplnt_fr_dt.max()"
   ]
  },
  {
   "cell_type": "code",
   "execution_count": 27,
   "metadata": {},
   "outputs": [
    {
     "data": {
      "text/html": [
       "<div>\n",
       "<style scoped>\n",
       "    .dataframe tbody tr th:only-of-type {\n",
       "        vertical-align: middle;\n",
       "    }\n",
       "\n",
       "    .dataframe tbody tr th {\n",
       "        vertical-align: top;\n",
       "    }\n",
       "\n",
       "    .dataframe thead th {\n",
       "        text-align: right;\n",
       "    }\n",
       "</style>\n",
       "<table border=\"1\" class=\"dataframe\">\n",
       "  <thead>\n",
       "    <tr style=\"text-align: right;\">\n",
       "      <th></th>\n",
       "      <th>cmplnt_fr_dt</th>\n",
       "      <th>boro_nm</th>\n",
       "      <th>law_cat_cd</th>\n",
       "      <th>ofns_desc</th>\n",
       "      <th>susp_age_group</th>\n",
       "      <th>susp_race</th>\n",
       "      <th>susp_sex</th>\n",
       "      <th>vic_age_group</th>\n",
       "      <th>vic_race</th>\n",
       "      <th>vic_sex</th>\n",
       "    </tr>\n",
       "  </thead>\n",
       "  <tbody>\n",
       "    <tr>\n",
       "      <th>0</th>\n",
       "      <td>2020-11-22T00:00:00.000</td>\n",
       "      <td>BRONX</td>\n",
       "      <td>FELONY</td>\n",
       "      <td>RAPE</td>\n",
       "      <td>UNKNOWN</td>\n",
       "      <td>UNKNOWN</td>\n",
       "      <td>U</td>\n",
       "      <td>25-44</td>\n",
       "      <td>BLACK</td>\n",
       "      <td>F</td>\n",
       "    </tr>\n",
       "    <tr>\n",
       "      <th>1</th>\n",
       "      <td>2020-12-29T00:00:00.000</td>\n",
       "      <td>QUEENS</td>\n",
       "      <td>MISDEMEANOR</td>\n",
       "      <td>OFFENSES INVOLVING FRAUD</td>\n",
       "      <td>18-24</td>\n",
       "      <td>BLACK</td>\n",
       "      <td>M</td>\n",
       "      <td>UNKNOWN</td>\n",
       "      <td>UNKNOWN</td>\n",
       "      <td>E</td>\n",
       "    </tr>\n",
       "    <tr>\n",
       "      <th>2</th>\n",
       "      <td>2020-12-23T00:00:00.000</td>\n",
       "      <td>MANHATTAN</td>\n",
       "      <td>MISDEMEANOR</td>\n",
       "      <td>PETIT LARCENY</td>\n",
       "      <td>UNKNOWN</td>\n",
       "      <td>UNKNOWN</td>\n",
       "      <td>F</td>\n",
       "      <td>UNKNOWN</td>\n",
       "      <td>UNKNOWN</td>\n",
       "      <td>D</td>\n",
       "    </tr>\n",
       "    <tr>\n",
       "      <th>3</th>\n",
       "      <td>2020-12-31T00:00:00.000</td>\n",
       "      <td>MANHATTAN</td>\n",
       "      <td>MISDEMEANOR</td>\n",
       "      <td>CRIMINAL MISCHIEF &amp; RELATED OF</td>\n",
       "      <td>UNKNOWN</td>\n",
       "      <td>UNKNOWN</td>\n",
       "      <td>U</td>\n",
       "      <td>UNKNOWN</td>\n",
       "      <td>UNKNOWN</td>\n",
       "      <td>E</td>\n",
       "    </tr>\n",
       "    <tr>\n",
       "      <th>4</th>\n",
       "      <td>2020-12-22T00:00:00.000</td>\n",
       "      <td>BROOKLYN</td>\n",
       "      <td>MISDEMEANOR</td>\n",
       "      <td>PETIT LARCENY</td>\n",
       "      <td>UNKNOWN</td>\n",
       "      <td>UNKNOWN</td>\n",
       "      <td>U</td>\n",
       "      <td>45-64</td>\n",
       "      <td>BLACK HISPANIC</td>\n",
       "      <td>M</td>\n",
       "    </tr>\n",
       "    <tr>\n",
       "      <th>...</th>\n",
       "      <td>...</td>\n",
       "      <td>...</td>\n",
       "      <td>...</td>\n",
       "      <td>...</td>\n",
       "      <td>...</td>\n",
       "      <td>...</td>\n",
       "      <td>...</td>\n",
       "      <td>...</td>\n",
       "      <td>...</td>\n",
       "      <td>...</td>\n",
       "    </tr>\n",
       "    <tr>\n",
       "      <th>318217</th>\n",
       "      <td>2020-01-02T00:00:00.000</td>\n",
       "      <td>BROOKLYN</td>\n",
       "      <td>MISDEMEANOR</td>\n",
       "      <td>CRIMINAL MISCHIEF &amp; RELATED OF</td>\n",
       "      <td>UNKNOWN</td>\n",
       "      <td>BLACK HISPANIC</td>\n",
       "      <td>U</td>\n",
       "      <td>45-64</td>\n",
       "      <td>BLACK</td>\n",
       "      <td>F</td>\n",
       "    </tr>\n",
       "    <tr>\n",
       "      <th>318218</th>\n",
       "      <td>2020-01-01T00:00:00.000</td>\n",
       "      <td>MANHATTAN</td>\n",
       "      <td>FELONY</td>\n",
       "      <td>FELONY ASSAULT</td>\n",
       "      <td>25-44</td>\n",
       "      <td>BLACK</td>\n",
       "      <td>M</td>\n",
       "      <td>25-44</td>\n",
       "      <td>BLACK</td>\n",
       "      <td>M</td>\n",
       "    </tr>\n",
       "    <tr>\n",
       "      <th>318219</th>\n",
       "      <td>2020-01-05T00:00:00.000</td>\n",
       "      <td>BRONX</td>\n",
       "      <td>MISDEMEANOR</td>\n",
       "      <td>CRIMINAL MISCHIEF &amp; RELATED OF</td>\n",
       "      <td>25-44</td>\n",
       "      <td>WHITE</td>\n",
       "      <td>M</td>\n",
       "      <td>25-44</td>\n",
       "      <td>WHITE HISPANIC</td>\n",
       "      <td>F</td>\n",
       "    </tr>\n",
       "    <tr>\n",
       "      <th>318222</th>\n",
       "      <td>2020-01-02T00:00:00.000</td>\n",
       "      <td>QUEENS</td>\n",
       "      <td>FELONY</td>\n",
       "      <td>CRIMINAL MISCHIEF &amp; RELATED OF</td>\n",
       "      <td>UNKNOWN</td>\n",
       "      <td>UNKNOWN</td>\n",
       "      <td>U</td>\n",
       "      <td>45-64</td>\n",
       "      <td>ASIAN / PACIFIC ISLANDER</td>\n",
       "      <td>M</td>\n",
       "    </tr>\n",
       "    <tr>\n",
       "      <th>318224</th>\n",
       "      <td>2020-01-05T00:00:00.000</td>\n",
       "      <td>BRONX</td>\n",
       "      <td>MISDEMEANOR</td>\n",
       "      <td>INTOXICATED &amp; IMPAIRED DRIVING</td>\n",
       "      <td>45-64</td>\n",
       "      <td>WHITE HISPANIC</td>\n",
       "      <td>M</td>\n",
       "      <td>UNKNOWN</td>\n",
       "      <td>UNKNOWN</td>\n",
       "      <td>E</td>\n",
       "    </tr>\n",
       "  </tbody>\n",
       "</table>\n",
       "<p>275130 rows × 10 columns</p>\n",
       "</div>"
      ],
      "text/plain": [
       "                   cmplnt_fr_dt    boro_nm   law_cat_cd  \\\n",
       "0       2020-11-22T00:00:00.000      BRONX       FELONY   \n",
       "1       2020-12-29T00:00:00.000     QUEENS  MISDEMEANOR   \n",
       "2       2020-12-23T00:00:00.000  MANHATTAN  MISDEMEANOR   \n",
       "3       2020-12-31T00:00:00.000  MANHATTAN  MISDEMEANOR   \n",
       "4       2020-12-22T00:00:00.000   BROOKLYN  MISDEMEANOR   \n",
       "...                         ...        ...          ...   \n",
       "318217  2020-01-02T00:00:00.000   BROOKLYN  MISDEMEANOR   \n",
       "318218  2020-01-01T00:00:00.000  MANHATTAN       FELONY   \n",
       "318219  2020-01-05T00:00:00.000      BRONX  MISDEMEANOR   \n",
       "318222  2020-01-02T00:00:00.000     QUEENS       FELONY   \n",
       "318224  2020-01-05T00:00:00.000      BRONX  MISDEMEANOR   \n",
       "\n",
       "                             ofns_desc susp_age_group       susp_race  \\\n",
       "0                                 RAPE        UNKNOWN         UNKNOWN   \n",
       "1             OFFENSES INVOLVING FRAUD          18-24           BLACK   \n",
       "2                        PETIT LARCENY        UNKNOWN         UNKNOWN   \n",
       "3       CRIMINAL MISCHIEF & RELATED OF        UNKNOWN         UNKNOWN   \n",
       "4                        PETIT LARCENY        UNKNOWN         UNKNOWN   \n",
       "...                                ...            ...             ...   \n",
       "318217  CRIMINAL MISCHIEF & RELATED OF        UNKNOWN  BLACK HISPANIC   \n",
       "318218                  FELONY ASSAULT          25-44           BLACK   \n",
       "318219  CRIMINAL MISCHIEF & RELATED OF          25-44           WHITE   \n",
       "318222  CRIMINAL MISCHIEF & RELATED OF        UNKNOWN         UNKNOWN   \n",
       "318224  INTOXICATED & IMPAIRED DRIVING          45-64  WHITE HISPANIC   \n",
       "\n",
       "       susp_sex vic_age_group                  vic_race vic_sex  \n",
       "0             U         25-44                     BLACK       F  \n",
       "1             M       UNKNOWN                   UNKNOWN       E  \n",
       "2             F       UNKNOWN                   UNKNOWN       D  \n",
       "3             U       UNKNOWN                   UNKNOWN       E  \n",
       "4             U         45-64            BLACK HISPANIC       M  \n",
       "...         ...           ...                       ...     ...  \n",
       "318217        U         45-64                     BLACK       F  \n",
       "318218        M         25-44                     BLACK       M  \n",
       "318219        M         25-44            WHITE HISPANIC       F  \n",
       "318222        U         45-64  ASIAN / PACIFIC ISLANDER       M  \n",
       "318224        M       UNKNOWN                   UNKNOWN       E  \n",
       "\n",
       "[275130 rows x 10 columns]"
      ]
     },
     "execution_count": 27,
     "metadata": {},
     "output_type": "execute_result"
    }
   ],
   "source": [
    "NYPD_COMPL_df"
   ]
  },
  {
   "cell_type": "code",
   "execution_count": 28,
   "metadata": {},
   "outputs": [
    {
     "data": {
      "text/plain": [
       "(25854, 4)"
      ]
     },
     "execution_count": 28,
     "metadata": {},
     "output_type": "execute_result"
    }
   ],
   "source": [
    "NYS_COV19_df.dropna(inplace=True)\n",
    "NYS_COV19_df.shape"
   ]
  },
  {
   "cell_type": "code",
   "execution_count": 29,
   "metadata": {},
   "outputs": [
    {
     "data": {
      "text/plain": [
       "test_date                0\n",
       "county                   0\n",
       "new_positives            0\n",
       "total_number_of_tests    0\n",
       "dtype: int64"
      ]
     },
     "execution_count": 29,
     "metadata": {},
     "output_type": "execute_result"
    }
   ],
   "source": [
    "NYS_COV19_df.isna().sum()"
   ]
  },
  {
   "cell_type": "code",
   "execution_count": 30,
   "metadata": {},
   "outputs": [
    {
     "data": {
      "text/html": [
       "<div>\n",
       "<style scoped>\n",
       "    .dataframe tbody tr th:only-of-type {\n",
       "        vertical-align: middle;\n",
       "    }\n",
       "\n",
       "    .dataframe tbody tr th {\n",
       "        vertical-align: top;\n",
       "    }\n",
       "\n",
       "    .dataframe thead th {\n",
       "        text-align: right;\n",
       "    }\n",
       "</style>\n",
       "<table border=\"1\" class=\"dataframe\">\n",
       "  <thead>\n",
       "    <tr style=\"text-align: right;\">\n",
       "      <th></th>\n",
       "      <th>test_date</th>\n",
       "      <th>county</th>\n",
       "      <th>new_positives</th>\n",
       "      <th>total_number_of_tests</th>\n",
       "    </tr>\n",
       "  </thead>\n",
       "  <tbody>\n",
       "    <tr>\n",
       "      <th>0</th>\n",
       "      <td>2020-03-01T00:00:00.000</td>\n",
       "      <td>Albany</td>\n",
       "      <td>0</td>\n",
       "      <td>0</td>\n",
       "    </tr>\n",
       "    <tr>\n",
       "      <th>1</th>\n",
       "      <td>2020-03-02T00:00:00.000</td>\n",
       "      <td>Albany</td>\n",
       "      <td>0</td>\n",
       "      <td>0</td>\n",
       "    </tr>\n",
       "    <tr>\n",
       "      <th>2</th>\n",
       "      <td>2020-03-03T00:00:00.000</td>\n",
       "      <td>Albany</td>\n",
       "      <td>0</td>\n",
       "      <td>0</td>\n",
       "    </tr>\n",
       "    <tr>\n",
       "      <th>3</th>\n",
       "      <td>2020-03-04T00:00:00.000</td>\n",
       "      <td>Albany</td>\n",
       "      <td>0</td>\n",
       "      <td>0</td>\n",
       "    </tr>\n",
       "    <tr>\n",
       "      <th>4</th>\n",
       "      <td>2020-03-05T00:00:00.000</td>\n",
       "      <td>Albany</td>\n",
       "      <td>0</td>\n",
       "      <td>3</td>\n",
       "    </tr>\n",
       "  </tbody>\n",
       "</table>\n",
       "</div>"
      ],
      "text/plain": [
       "                 test_date  county new_positives total_number_of_tests\n",
       "0  2020-03-01T00:00:00.000  Albany             0                     0\n",
       "1  2020-03-02T00:00:00.000  Albany             0                     0\n",
       "2  2020-03-03T00:00:00.000  Albany             0                     0\n",
       "3  2020-03-04T00:00:00.000  Albany             0                     0\n",
       "4  2020-03-05T00:00:00.000  Albany             0                     3"
      ]
     },
     "execution_count": 30,
     "metadata": {},
     "output_type": "execute_result"
    }
   ],
   "source": [
    "NYS_COV19_df.head()"
   ]
  },
  {
   "cell_type": "code",
   "execution_count": 31,
   "metadata": {},
   "outputs": [
    {
     "data": {
      "text/plain": [
       "test_date                object\n",
       "county                   object\n",
       "new_positives            object\n",
       "total_number_of_tests    object\n",
       "dtype: object"
      ]
     },
     "execution_count": 31,
     "metadata": {},
     "output_type": "execute_result"
    }
   ],
   "source": [
    "NYS_COV19_df.dtypes"
   ]
  },
  {
   "cell_type": "code",
   "execution_count": 32,
   "metadata": {},
   "outputs": [
    {
     "data": {
      "text/plain": [
       "array(['Albany', 'Allegany', 'Bronx', 'Broome', 'Cattaraugus', 'Cayuga',\n",
       "       'Chautauqua', 'Chemung', 'Chenango', 'Clinton', 'Columbia',\n",
       "       'Cortland', 'Delaware', 'Dutchess', 'Erie', 'Essex', 'Franklin',\n",
       "       'Fulton', 'Genesee', 'Greene', 'Hamilton', 'Herkimer', 'Jefferson',\n",
       "       'Kings', 'Lewis', 'Livingston', 'Madison', 'Monroe', 'Montgomery',\n",
       "       'Nassau', 'New York', 'Niagara', 'Oneida', 'Onondaga', 'Ontario',\n",
       "       'Orange', 'Orleans', 'Oswego', 'Otsego', 'Putnam', 'Queens',\n",
       "       'Rensselaer', 'Richmond', 'Rockland', 'Saratoga', 'Schenectady',\n",
       "       'Schoharie', 'Schuyler', 'Seneca', 'St. Lawrence', 'Steuben',\n",
       "       'Suffolk', 'Sullivan', 'Tioga', 'Tompkins', 'Ulster', 'Warren',\n",
       "       'Washington', 'Wayne', 'Westchester', 'Wyoming', 'Yates'],\n",
       "      dtype=object)"
      ]
     },
     "execution_count": 32,
     "metadata": {},
     "output_type": "execute_result"
    }
   ],
   "source": [
    "NYS_COV19_df[\"county\"].unique()"
   ]
  },
  {
   "cell_type": "code",
   "execution_count": 33,
   "metadata": {},
   "outputs": [
    {
     "data": {
      "text/html": [
       "<div>\n",
       "<style scoped>\n",
       "    .dataframe tbody tr th:only-of-type {\n",
       "        vertical-align: middle;\n",
       "    }\n",
       "\n",
       "    .dataframe tbody tr th {\n",
       "        vertical-align: top;\n",
       "    }\n",
       "\n",
       "    .dataframe thead th {\n",
       "        text-align: right;\n",
       "    }\n",
       "</style>\n",
       "<table border=\"1\" class=\"dataframe\">\n",
       "  <thead>\n",
       "    <tr style=\"text-align: right;\">\n",
       "      <th></th>\n",
       "      <th>test_date</th>\n",
       "      <th>county</th>\n",
       "      <th>new_positives</th>\n",
       "      <th>total_number_of_tests</th>\n",
       "    </tr>\n",
       "  </thead>\n",
       "  <tbody>\n",
       "    <tr>\n",
       "      <th>0</th>\n",
       "      <td>2020-03-01T00:00:00.000</td>\n",
       "      <td>Bronx</td>\n",
       "      <td>0</td>\n",
       "      <td>0</td>\n",
       "    </tr>\n",
       "    <tr>\n",
       "      <th>1</th>\n",
       "      <td>2020-03-02T00:00:00.000</td>\n",
       "      <td>Bronx</td>\n",
       "      <td>0</td>\n",
       "      <td>0</td>\n",
       "    </tr>\n",
       "    <tr>\n",
       "      <th>2</th>\n",
       "      <td>2020-03-03T00:00:00.000</td>\n",
       "      <td>Bronx</td>\n",
       "      <td>0</td>\n",
       "      <td>1</td>\n",
       "    </tr>\n",
       "    <tr>\n",
       "      <th>3</th>\n",
       "      <td>2020-03-04T00:00:00.000</td>\n",
       "      <td>Bronx</td>\n",
       "      <td>0</td>\n",
       "      <td>0</td>\n",
       "    </tr>\n",
       "    <tr>\n",
       "      <th>4</th>\n",
       "      <td>2020-03-05T00:00:00.000</td>\n",
       "      <td>Bronx</td>\n",
       "      <td>0</td>\n",
       "      <td>5</td>\n",
       "    </tr>\n",
       "    <tr>\n",
       "      <th>...</th>\n",
       "      <td>...</td>\n",
       "      <td>...</td>\n",
       "      <td>...</td>\n",
       "      <td>...</td>\n",
       "    </tr>\n",
       "    <tr>\n",
       "      <th>2080</th>\n",
       "      <td>2021-04-17T00:00:00.000</td>\n",
       "      <td>Richmond</td>\n",
       "      <td>250</td>\n",
       "      <td>7083</td>\n",
       "    </tr>\n",
       "    <tr>\n",
       "      <th>2081</th>\n",
       "      <td>2021-04-18T00:00:00.000</td>\n",
       "      <td>Richmond</td>\n",
       "      <td>206</td>\n",
       "      <td>4749</td>\n",
       "    </tr>\n",
       "    <tr>\n",
       "      <th>2082</th>\n",
       "      <td>2021-04-19T00:00:00.000</td>\n",
       "      <td>Richmond</td>\n",
       "      <td>187</td>\n",
       "      <td>3561</td>\n",
       "    </tr>\n",
       "    <tr>\n",
       "      <th>2083</th>\n",
       "      <td>2021-04-20T00:00:00.000</td>\n",
       "      <td>Richmond</td>\n",
       "      <td>161</td>\n",
       "      <td>5209</td>\n",
       "    </tr>\n",
       "    <tr>\n",
       "      <th>2084</th>\n",
       "      <td>2021-04-21T00:00:00.000</td>\n",
       "      <td>Richmond</td>\n",
       "      <td>197</td>\n",
       "      <td>7130</td>\n",
       "    </tr>\n",
       "  </tbody>\n",
       "</table>\n",
       "<p>2085 rows × 4 columns</p>\n",
       "</div>"
      ],
      "text/plain": [
       "                    test_date    county new_positives total_number_of_tests\n",
       "0     2020-03-01T00:00:00.000     Bronx             0                     0\n",
       "1     2020-03-02T00:00:00.000     Bronx             0                     0\n",
       "2     2020-03-03T00:00:00.000     Bronx             0                     1\n",
       "3     2020-03-04T00:00:00.000     Bronx             0                     0\n",
       "4     2020-03-05T00:00:00.000     Bronx             0                     5\n",
       "...                       ...       ...           ...                   ...\n",
       "2080  2021-04-17T00:00:00.000  Richmond           250                  7083\n",
       "2081  2021-04-18T00:00:00.000  Richmond           206                  4749\n",
       "2082  2021-04-19T00:00:00.000  Richmond           187                  3561\n",
       "2083  2021-04-20T00:00:00.000  Richmond           161                  5209\n",
       "2084  2021-04-21T00:00:00.000  Richmond           197                  7130\n",
       "\n",
       "[2085 rows x 4 columns]"
      ]
     },
     "execution_count": 33,
     "metadata": {},
     "output_type": "execute_result"
    }
   ],
   "source": [
    "NYC_list=[\"New York\",\"Bronx\",\"Richmond\",\"Kings\",\"Queens\"]\n",
    "NYC_COV19_df=NYS_COV19_df[NYS_COV19_df.county.isin(NYC_list)]\n",
    "NYC_COV19_df.reset_index(inplace=True,drop=True)\n",
    "NYC_COV19_df"
   ]
  },
  {
   "cell_type": "code",
   "execution_count": 34,
   "metadata": {},
   "outputs": [
    {
     "data": {
      "text/plain": [
       "Bronx       417\n",
       "Queens      417\n",
       "Richmond    417\n",
       "Kings       417\n",
       "New York    417\n",
       "Name: county, dtype: int64"
      ]
     },
     "execution_count": 34,
     "metadata": {},
     "output_type": "execute_result"
    }
   ],
   "source": [
    "NYC_COV19_df.county.value_counts()"
   ]
  },
  {
   "cell_type": "code",
   "execution_count": 35,
   "metadata": {},
   "outputs": [
    {
     "name": "stderr",
     "output_type": "stream",
     "text": [
      "<ipython-input-35-cf01a19556b9>:2: SettingWithCopyWarning: \n",
      "A value is trying to be set on a copy of a slice from a DataFrame.\n",
      "Try using .loc[row_indexer,col_indexer] = value instead\n",
      "\n",
      "See the caveats in the documentation: https://pandas.pydata.org/pandas-docs/stable/user_guide/indexing.html#returning-a-view-versus-a-copy\n",
      "  NYC_COV19_df['county'] = [boro_list[item] for item in NYC_COV19_df['county']]\n"
     ]
    }
   ],
   "source": [
    "boro_list = {\"Bronx\":'BRONX',\"Queens\":'QUEENS',\"New York\":'MANHATTAN',\"Kings\":'BROOKLYN',\"Richmond\":'STATEN ISLAND'}\n",
    "NYC_COV19_df['county'] = [boro_list[item] for item in NYC_COV19_df['county']]"
   ]
  },
  {
   "cell_type": "markdown",
   "metadata": {},
   "source": [
    "## 5. Data Transforming (Dimension and Fact Table)"
   ]
  },
  {
   "cell_type": "markdown",
   "metadata": {},
   "source": [
    "#### 5.a Create Suspect Dimension\n"
   ]
  },
  {
   "cell_type": "code",
   "execution_count": 36,
   "metadata": {},
   "outputs": [],
   "source": [
    "suspect_df=NYPD_COMPL_df[[\"susp_age_group\",\"susp_race\",\"susp_sex\"]]  \n",
    "suspect_df=suspect_df.drop_duplicates()\n",
    "Suspect_df=suspect_df.reset_index(drop=True)"
   ]
  },
  {
   "cell_type": "code",
   "execution_count": 37,
   "metadata": {},
   "outputs": [],
   "source": [
    "suspect_df[\"suspect_id\"]=list(range(100,100+len(suspect_df)))"
   ]
  },
  {
   "cell_type": "code",
   "execution_count": 38,
   "metadata": {},
   "outputs": [],
   "source": [
    "suspect_dim=suspect_df[['suspect_id','susp_age_group', 'susp_race', 'susp_sex']]"
   ]
  },
  {
   "cell_type": "code",
   "execution_count": 39,
   "metadata": {},
   "outputs": [
    {
     "data": {
      "text/html": [
       "<div>\n",
       "<style scoped>\n",
       "    .dataframe tbody tr th:only-of-type {\n",
       "        vertical-align: middle;\n",
       "    }\n",
       "\n",
       "    .dataframe tbody tr th {\n",
       "        vertical-align: top;\n",
       "    }\n",
       "\n",
       "    .dataframe thead th {\n",
       "        text-align: right;\n",
       "    }\n",
       "</style>\n",
       "<table border=\"1\" class=\"dataframe\">\n",
       "  <thead>\n",
       "    <tr style=\"text-align: right;\">\n",
       "      <th></th>\n",
       "      <th>suspect_id</th>\n",
       "      <th>susp_age_group</th>\n",
       "      <th>susp_race</th>\n",
       "      <th>susp_sex</th>\n",
       "    </tr>\n",
       "  </thead>\n",
       "  <tbody>\n",
       "    <tr>\n",
       "      <th>0</th>\n",
       "      <td>100</td>\n",
       "      <td>UNKNOWN</td>\n",
       "      <td>UNKNOWN</td>\n",
       "      <td>U</td>\n",
       "    </tr>\n",
       "    <tr>\n",
       "      <th>1</th>\n",
       "      <td>101</td>\n",
       "      <td>18-24</td>\n",
       "      <td>BLACK</td>\n",
       "      <td>M</td>\n",
       "    </tr>\n",
       "    <tr>\n",
       "      <th>2</th>\n",
       "      <td>102</td>\n",
       "      <td>UNKNOWN</td>\n",
       "      <td>UNKNOWN</td>\n",
       "      <td>F</td>\n",
       "    </tr>\n",
       "    <tr>\n",
       "      <th>5</th>\n",
       "      <td>103</td>\n",
       "      <td>UNKNOWN</td>\n",
       "      <td>WHITE HISPANIC</td>\n",
       "      <td>M</td>\n",
       "    </tr>\n",
       "    <tr>\n",
       "      <th>6</th>\n",
       "      <td>104</td>\n",
       "      <td>25-44</td>\n",
       "      <td>WHITE</td>\n",
       "      <td>M</td>\n",
       "    </tr>\n",
       "    <tr>\n",
       "      <th>...</th>\n",
       "      <td>...</td>\n",
       "      <td>...</td>\n",
       "      <td>...</td>\n",
       "      <td>...</td>\n",
       "    </tr>\n",
       "    <tr>\n",
       "      <th>58535</th>\n",
       "      <td>218</td>\n",
       "      <td>&lt;18</td>\n",
       "      <td>AMERICAN INDIAN/ALASKAN NATIVE</td>\n",
       "      <td>F</td>\n",
       "    </tr>\n",
       "    <tr>\n",
       "      <th>72933</th>\n",
       "      <td>219</td>\n",
       "      <td>65+</td>\n",
       "      <td>ASIAN / PACIFIC ISLANDER</td>\n",
       "      <td>U</td>\n",
       "    </tr>\n",
       "    <tr>\n",
       "      <th>89143</th>\n",
       "      <td>220</td>\n",
       "      <td>25-44</td>\n",
       "      <td>AMERICAN INDIAN/ALASKAN NATIVE</td>\n",
       "      <td>U</td>\n",
       "    </tr>\n",
       "    <tr>\n",
       "      <th>165221</th>\n",
       "      <td>221</td>\n",
       "      <td>65+</td>\n",
       "      <td>AMERICAN INDIAN/ALASKAN NATIVE</td>\n",
       "      <td>F</td>\n",
       "    </tr>\n",
       "    <tr>\n",
       "      <th>189219</th>\n",
       "      <td>222</td>\n",
       "      <td>18-24</td>\n",
       "      <td>AMERICAN INDIAN/ALASKAN NATIVE</td>\n",
       "      <td>U</td>\n",
       "    </tr>\n",
       "  </tbody>\n",
       "</table>\n",
       "<p>123 rows × 4 columns</p>\n",
       "</div>"
      ],
      "text/plain": [
       "        suspect_id susp_age_group                       susp_race susp_sex\n",
       "0              100        UNKNOWN                         UNKNOWN        U\n",
       "1              101          18-24                           BLACK        M\n",
       "2              102        UNKNOWN                         UNKNOWN        F\n",
       "5              103        UNKNOWN                  WHITE HISPANIC        M\n",
       "6              104          25-44                           WHITE        M\n",
       "...            ...            ...                             ...      ...\n",
       "58535          218            <18  AMERICAN INDIAN/ALASKAN NATIVE        F\n",
       "72933          219            65+        ASIAN / PACIFIC ISLANDER        U\n",
       "89143          220          25-44  AMERICAN INDIAN/ALASKAN NATIVE        U\n",
       "165221         221            65+  AMERICAN INDIAN/ALASKAN NATIVE        F\n",
       "189219         222          18-24  AMERICAN INDIAN/ALASKAN NATIVE        U\n",
       "\n",
       "[123 rows x 4 columns]"
      ]
     },
     "execution_count": 39,
     "metadata": {},
     "output_type": "execute_result"
    }
   ],
   "source": [
    "suspect_dim"
   ]
  },
  {
   "cell_type": "markdown",
   "metadata": {},
   "source": [
    "#### 5.b Create Victim Dimension\n"
   ]
  },
  {
   "cell_type": "code",
   "execution_count": 40,
   "metadata": {},
   "outputs": [],
   "source": [
    "victim_df=NYPD_COMPL_df[[\"vic_age_group\",\"vic_race\",\"vic_sex\"]]  \n",
    "victim_df=victim_df.drop_duplicates()\n",
    "victim_df=victim_df.reset_index(drop=True)"
   ]
  },
  {
   "cell_type": "code",
   "execution_count": 41,
   "metadata": {},
   "outputs": [],
   "source": [
    "victim_df[\"victim_id\"]=list(range(1000,1000+len(victim_df)))"
   ]
  },
  {
   "cell_type": "code",
   "execution_count": 42,
   "metadata": {},
   "outputs": [],
   "source": [
    "victim_dim=victim_df[[\"victim_id\",\"vic_age_group\",\"vic_race\",\"vic_sex\"]]"
   ]
  },
  {
   "cell_type": "code",
   "execution_count": 43,
   "metadata": {},
   "outputs": [
    {
     "data": {
      "text/html": [
       "<div>\n",
       "<style scoped>\n",
       "    .dataframe tbody tr th:only-of-type {\n",
       "        vertical-align: middle;\n",
       "    }\n",
       "\n",
       "    .dataframe tbody tr th {\n",
       "        vertical-align: top;\n",
       "    }\n",
       "\n",
       "    .dataframe thead th {\n",
       "        text-align: right;\n",
       "    }\n",
       "</style>\n",
       "<table border=\"1\" class=\"dataframe\">\n",
       "  <thead>\n",
       "    <tr style=\"text-align: right;\">\n",
       "      <th></th>\n",
       "      <th>victim_id</th>\n",
       "      <th>vic_age_group</th>\n",
       "      <th>vic_race</th>\n",
       "      <th>vic_sex</th>\n",
       "    </tr>\n",
       "  </thead>\n",
       "  <tbody>\n",
       "    <tr>\n",
       "      <th>0</th>\n",
       "      <td>1000</td>\n",
       "      <td>25-44</td>\n",
       "      <td>BLACK</td>\n",
       "      <td>F</td>\n",
       "    </tr>\n",
       "    <tr>\n",
       "      <th>1</th>\n",
       "      <td>1001</td>\n",
       "      <td>UNKNOWN</td>\n",
       "      <td>UNKNOWN</td>\n",
       "      <td>E</td>\n",
       "    </tr>\n",
       "    <tr>\n",
       "      <th>2</th>\n",
       "      <td>1002</td>\n",
       "      <td>UNKNOWN</td>\n",
       "      <td>UNKNOWN</td>\n",
       "      <td>D</td>\n",
       "    </tr>\n",
       "    <tr>\n",
       "      <th>3</th>\n",
       "      <td>1003</td>\n",
       "      <td>45-64</td>\n",
       "      <td>BLACK HISPANIC</td>\n",
       "      <td>M</td>\n",
       "    </tr>\n",
       "    <tr>\n",
       "      <th>4</th>\n",
       "      <td>1004</td>\n",
       "      <td>25-44</td>\n",
       "      <td>BLACK</td>\n",
       "      <td>M</td>\n",
       "    </tr>\n",
       "    <tr>\n",
       "      <th>...</th>\n",
       "      <td>...</td>\n",
       "      <td>...</td>\n",
       "      <td>...</td>\n",
       "      <td>...</td>\n",
       "    </tr>\n",
       "    <tr>\n",
       "      <th>113</th>\n",
       "      <td>1113</td>\n",
       "      <td>18-24</td>\n",
       "      <td>WHITE HISPANIC</td>\n",
       "      <td>E</td>\n",
       "    </tr>\n",
       "    <tr>\n",
       "      <th>114</th>\n",
       "      <td>1114</td>\n",
       "      <td>45-64</td>\n",
       "      <td>BLACK</td>\n",
       "      <td>D</td>\n",
       "    </tr>\n",
       "    <tr>\n",
       "      <th>115</th>\n",
       "      <td>1115</td>\n",
       "      <td>25-44</td>\n",
       "      <td>UNKNOWN</td>\n",
       "      <td>D</td>\n",
       "    </tr>\n",
       "    <tr>\n",
       "      <th>116</th>\n",
       "      <td>1116</td>\n",
       "      <td>18-24</td>\n",
       "      <td>BLACK</td>\n",
       "      <td>E</td>\n",
       "    </tr>\n",
       "    <tr>\n",
       "      <th>117</th>\n",
       "      <td>1117</td>\n",
       "      <td>18-24</td>\n",
       "      <td>ASIAN / PACIFIC ISLANDER</td>\n",
       "      <td>D</td>\n",
       "    </tr>\n",
       "  </tbody>\n",
       "</table>\n",
       "<p>118 rows × 4 columns</p>\n",
       "</div>"
      ],
      "text/plain": [
       "     victim_id vic_age_group                  vic_race vic_sex\n",
       "0         1000         25-44                     BLACK       F\n",
       "1         1001       UNKNOWN                   UNKNOWN       E\n",
       "2         1002       UNKNOWN                   UNKNOWN       D\n",
       "3         1003         45-64            BLACK HISPANIC       M\n",
       "4         1004         25-44                     BLACK       M\n",
       "..         ...           ...                       ...     ...\n",
       "113       1113         18-24            WHITE HISPANIC       E\n",
       "114       1114         45-64                     BLACK       D\n",
       "115       1115         25-44                   UNKNOWN       D\n",
       "116       1116         18-24                     BLACK       E\n",
       "117       1117         18-24  ASIAN / PACIFIC ISLANDER       D\n",
       "\n",
       "[118 rows x 4 columns]"
      ]
     },
     "execution_count": 43,
     "metadata": {},
     "output_type": "execute_result"
    }
   ],
   "source": [
    "victim_dim"
   ]
  },
  {
   "cell_type": "markdown",
   "metadata": {},
   "source": [
    "#### 5.c Create Offence Dimension\n"
   ]
  },
  {
   "cell_type": "code",
   "execution_count": 44,
   "metadata": {},
   "outputs": [],
   "source": [
    "offence_df=NYPD_COMPL_df[[\"law_cat_cd\",\"ofns_desc\"]]  \n",
    "offence_df=offence_df.drop_duplicates()\n",
    "offence_df=offence_df.reset_index(drop=True)"
   ]
  },
  {
   "cell_type": "code",
   "execution_count": 45,
   "metadata": {},
   "outputs": [],
   "source": [
    "offence_df[\"off_id\"]=list(range(5000,5000+len(offence_df)))"
   ]
  },
  {
   "cell_type": "code",
   "execution_count": 46,
   "metadata": {},
   "outputs": [],
   "source": [
    "offence_dim=offence_df[[\"off_id\",\"law_cat_cd\",\"ofns_desc\"]]"
   ]
  },
  {
   "cell_type": "code",
   "execution_count": 47,
   "metadata": {},
   "outputs": [
    {
     "data": {
      "text/html": [
       "<div>\n",
       "<style scoped>\n",
       "    .dataframe tbody tr th:only-of-type {\n",
       "        vertical-align: middle;\n",
       "    }\n",
       "\n",
       "    .dataframe tbody tr th {\n",
       "        vertical-align: top;\n",
       "    }\n",
       "\n",
       "    .dataframe thead th {\n",
       "        text-align: right;\n",
       "    }\n",
       "</style>\n",
       "<table border=\"1\" class=\"dataframe\">\n",
       "  <thead>\n",
       "    <tr style=\"text-align: right;\">\n",
       "      <th></th>\n",
       "      <th>off_id</th>\n",
       "      <th>law_cat_cd</th>\n",
       "      <th>ofns_desc</th>\n",
       "    </tr>\n",
       "  </thead>\n",
       "  <tbody>\n",
       "    <tr>\n",
       "      <th>0</th>\n",
       "      <td>5000</td>\n",
       "      <td>FELONY</td>\n",
       "      <td>RAPE</td>\n",
       "    </tr>\n",
       "    <tr>\n",
       "      <th>1</th>\n",
       "      <td>5001</td>\n",
       "      <td>MISDEMEANOR</td>\n",
       "      <td>OFFENSES INVOLVING FRAUD</td>\n",
       "    </tr>\n",
       "    <tr>\n",
       "      <th>2</th>\n",
       "      <td>5002</td>\n",
       "      <td>MISDEMEANOR</td>\n",
       "      <td>PETIT LARCENY</td>\n",
       "    </tr>\n",
       "    <tr>\n",
       "      <th>3</th>\n",
       "      <td>5003</td>\n",
       "      <td>MISDEMEANOR</td>\n",
       "      <td>CRIMINAL MISCHIEF &amp; RELATED OF</td>\n",
       "    </tr>\n",
       "    <tr>\n",
       "      <th>4</th>\n",
       "      <td>5004</td>\n",
       "      <td>MISDEMEANOR</td>\n",
       "      <td>ASSAULT 3 &amp; RELATED OFFENSES</td>\n",
       "    </tr>\n",
       "    <tr>\n",
       "      <th>...</th>\n",
       "      <td>...</td>\n",
       "      <td>...</td>\n",
       "      <td>...</td>\n",
       "    </tr>\n",
       "    <tr>\n",
       "      <th>62</th>\n",
       "      <td>5062</td>\n",
       "      <td>MISDEMEANOR</td>\n",
       "      <td>ENDAN WELFARE INCOMP</td>\n",
       "    </tr>\n",
       "    <tr>\n",
       "      <th>63</th>\n",
       "      <td>5063</td>\n",
       "      <td>FELONY</td>\n",
       "      <td>ENDAN WELFARE INCOMP</td>\n",
       "    </tr>\n",
       "    <tr>\n",
       "      <th>64</th>\n",
       "      <td>5064</td>\n",
       "      <td>FELONY</td>\n",
       "      <td>GAMBLING</td>\n",
       "    </tr>\n",
       "    <tr>\n",
       "      <th>65</th>\n",
       "      <td>5065</td>\n",
       "      <td>MISDEMEANOR</td>\n",
       "      <td>OFFENSES RELATED TO CHILDREN</td>\n",
       "    </tr>\n",
       "    <tr>\n",
       "      <th>66</th>\n",
       "      <td>5066</td>\n",
       "      <td>VIOLATION</td>\n",
       "      <td>LOITERING/GAMBLING (CARDS, DIC</td>\n",
       "    </tr>\n",
       "  </tbody>\n",
       "</table>\n",
       "<p>67 rows × 3 columns</p>\n",
       "</div>"
      ],
      "text/plain": [
       "    off_id   law_cat_cd                       ofns_desc\n",
       "0     5000       FELONY                            RAPE\n",
       "1     5001  MISDEMEANOR        OFFENSES INVOLVING FRAUD\n",
       "2     5002  MISDEMEANOR                   PETIT LARCENY\n",
       "3     5003  MISDEMEANOR  CRIMINAL MISCHIEF & RELATED OF\n",
       "4     5004  MISDEMEANOR    ASSAULT 3 & RELATED OFFENSES\n",
       "..     ...          ...                             ...\n",
       "62    5062  MISDEMEANOR            ENDAN WELFARE INCOMP\n",
       "63    5063       FELONY            ENDAN WELFARE INCOMP\n",
       "64    5064       FELONY                        GAMBLING\n",
       "65    5065  MISDEMEANOR    OFFENSES RELATED TO CHILDREN\n",
       "66    5066    VIOLATION  LOITERING/GAMBLING (CARDS, DIC\n",
       "\n",
       "[67 rows x 3 columns]"
      ]
     },
     "execution_count": 47,
     "metadata": {},
     "output_type": "execute_result"
    }
   ],
   "source": [
    "offence_dim"
   ]
  },
  {
   "cell_type": "markdown",
   "metadata": {},
   "source": [
    "#### 5.d Create location Dimension"
   ]
  },
  {
   "cell_type": "code",
   "execution_count": 48,
   "metadata": {},
   "outputs": [],
   "source": [
    "loc_list = NYPD_COMPL_df.boro_nm.unique().tolist()   \n",
    "    # create blank list of dimension rows\n",
    "dimension_rows = []\n",
    "    \n",
    "    # create author dimension with a surrogate key\n",
    "for loc_id, boro_nm in enumerate(loc_list, start = 50):\n",
    "    temp_list = [loc_id, boro_nm]\n",
    "    dimension_rows.append(temp_list)\n",
    "\n",
    "loc_dim = pd.DataFrame(data=dimension_rows,\n",
    "                         columns = [\"loc_id\",\"borough\"])"
   ]
  },
  {
   "cell_type": "code",
   "execution_count": 49,
   "metadata": {},
   "outputs": [
    {
     "data": {
      "text/html": [
       "<div>\n",
       "<style scoped>\n",
       "    .dataframe tbody tr th:only-of-type {\n",
       "        vertical-align: middle;\n",
       "    }\n",
       "\n",
       "    .dataframe tbody tr th {\n",
       "        vertical-align: top;\n",
       "    }\n",
       "\n",
       "    .dataframe thead th {\n",
       "        text-align: right;\n",
       "    }\n",
       "</style>\n",
       "<table border=\"1\" class=\"dataframe\">\n",
       "  <thead>\n",
       "    <tr style=\"text-align: right;\">\n",
       "      <th></th>\n",
       "      <th>loc_id</th>\n",
       "      <th>borough</th>\n",
       "    </tr>\n",
       "  </thead>\n",
       "  <tbody>\n",
       "    <tr>\n",
       "      <th>0</th>\n",
       "      <td>50</td>\n",
       "      <td>BRONX</td>\n",
       "    </tr>\n",
       "    <tr>\n",
       "      <th>1</th>\n",
       "      <td>51</td>\n",
       "      <td>QUEENS</td>\n",
       "    </tr>\n",
       "    <tr>\n",
       "      <th>2</th>\n",
       "      <td>52</td>\n",
       "      <td>MANHATTAN</td>\n",
       "    </tr>\n",
       "    <tr>\n",
       "      <th>3</th>\n",
       "      <td>53</td>\n",
       "      <td>BROOKLYN</td>\n",
       "    </tr>\n",
       "    <tr>\n",
       "      <th>4</th>\n",
       "      <td>54</td>\n",
       "      <td>STATEN ISLAND</td>\n",
       "    </tr>\n",
       "  </tbody>\n",
       "</table>\n",
       "</div>"
      ],
      "text/plain": [
       "   loc_id        borough\n",
       "0      50          BRONX\n",
       "1      51         QUEENS\n",
       "2      52      MANHATTAN\n",
       "3      53       BROOKLYN\n",
       "4      54  STATEN ISLAND"
      ]
     },
     "execution_count": 49,
     "metadata": {},
     "output_type": "execute_result"
    }
   ],
   "source": [
    "loc_dim"
   ]
  },
  {
   "cell_type": "markdown",
   "metadata": {},
   "source": [
    "#### 5.e Create date Dimension"
   ]
  },
  {
   "cell_type": "code",
   "execution_count": 50,
   "metadata": {},
   "outputs": [
    {
     "data": {
      "text/plain": [
       "'2021-04-21T00:00:00.000'"
      ]
     },
     "execution_count": 50,
     "metadata": {},
     "output_type": "execute_result"
    }
   ],
   "source": [
    "NYS_COV19_df.test_date.max()"
   ]
  },
  {
   "cell_type": "code",
   "execution_count": 51,
   "metadata": {},
   "outputs": [
    {
     "data": {
      "text/plain": [
       "test_date                2020-03-01T00:00:00.000\n",
       "county                                    Albany\n",
       "new_positives                                  0\n",
       "total_number_of_tests                          0\n",
       "dtype: object"
      ]
     },
     "execution_count": 51,
     "metadata": {},
     "output_type": "execute_result"
    }
   ],
   "source": [
    "NYS_COV19_df.min()"
   ]
  },
  {
   "cell_type": "code",
   "execution_count": 52,
   "metadata": {},
   "outputs": [
    {
     "data": {
      "text/plain": [
       "0        2020-03-01\n",
       "1        2020-03-02\n",
       "2        2020-03-03\n",
       "3        2020-03-04\n",
       "4        2020-03-05\n",
       "            ...    \n",
       "25849    2021-04-17\n",
       "25850    2021-04-18\n",
       "25851    2021-04-19\n",
       "25852    2021-04-20\n",
       "25853    2021-04-21\n",
       "Name: test_date, Length: 25854, dtype: object"
      ]
     },
     "execution_count": 52,
     "metadata": {},
     "output_type": "execute_result"
    }
   ],
   "source": [
    "NYS_COV19_df.test_date.str[0:10]"
   ]
  },
  {
   "cell_type": "code",
   "execution_count": 53,
   "metadata": {},
   "outputs": [],
   "source": [
    "date_df=NYS_COV19_df[['test_date']]\n",
    "date_df=date_df.rename(columns={\"test_date\":\"full_date\"})\n",
    "date_df=date_df.drop_duplicates()\n",
    "date_df2=NYPD_COMPL_df[['cmplnt_fr_dt']]\n",
    "date_df2= date_df2.rename(columns={\"cmplnt_fr_dt\":\"full_date\"})\n",
    "date_df2=date_df2.drop_duplicates()\n",
    "date_df=date_df.append(date_df2)\n",
    "date_df=date_df.drop_duplicates()"
   ]
  },
  {
   "cell_type": "code",
   "execution_count": 54,
   "metadata": {},
   "outputs": [],
   "source": [
    "date_df['full_date']=date_df['full_date'].str[0:10]\n",
    "date_df['date_id']=date_df['full_date'].str[0:4]+date_df['full_date'].str[5:7]+date_df['full_date'].str[8:10]\n",
    "date_df['full_date']=pd.to_datetime(date_df['full_date'])\n",
    "date_df[\"year\"]=date_df['full_date'].dt.year\n",
    "date_df[\"month\"]=date_df['full_date'].dt.month\n",
    "date_df[\"day\"]=date_df['full_date'].dt.day\n",
    "date_df[\"weekday\"]=date_df['full_date'].dt.day_name()"
   ]
  },
  {
   "cell_type": "code",
   "execution_count": 55,
   "metadata": {},
   "outputs": [],
   "source": [
    "date_df=date_df[[\"date_id\",\"day\",\"month\",\"year\",\"weekday\"]]\n",
    "date_df=date_df.sort_values(\"date_id\")\n",
    "date_dim=date_df.reset_index(drop=True)"
   ]
  },
  {
   "cell_type": "code",
   "execution_count": 56,
   "metadata": {},
   "outputs": [
    {
     "data": {
      "text/html": [
       "<div>\n",
       "<style scoped>\n",
       "    .dataframe tbody tr th:only-of-type {\n",
       "        vertical-align: middle;\n",
       "    }\n",
       "\n",
       "    .dataframe tbody tr th {\n",
       "        vertical-align: top;\n",
       "    }\n",
       "\n",
       "    .dataframe thead th {\n",
       "        text-align: right;\n",
       "    }\n",
       "</style>\n",
       "<table border=\"1\" class=\"dataframe\">\n",
       "  <thead>\n",
       "    <tr style=\"text-align: right;\">\n",
       "      <th></th>\n",
       "      <th>date_id</th>\n",
       "      <th>day</th>\n",
       "      <th>month</th>\n",
       "      <th>year</th>\n",
       "      <th>weekday</th>\n",
       "    </tr>\n",
       "  </thead>\n",
       "  <tbody>\n",
       "    <tr>\n",
       "      <th>0</th>\n",
       "      <td>20200101</td>\n",
       "      <td>1</td>\n",
       "      <td>1</td>\n",
       "      <td>2020</td>\n",
       "      <td>Wednesday</td>\n",
       "    </tr>\n",
       "    <tr>\n",
       "      <th>1</th>\n",
       "      <td>20200102</td>\n",
       "      <td>2</td>\n",
       "      <td>1</td>\n",
       "      <td>2020</td>\n",
       "      <td>Thursday</td>\n",
       "    </tr>\n",
       "    <tr>\n",
       "      <th>2</th>\n",
       "      <td>20200103</td>\n",
       "      <td>3</td>\n",
       "      <td>1</td>\n",
       "      <td>2020</td>\n",
       "      <td>Friday</td>\n",
       "    </tr>\n",
       "    <tr>\n",
       "      <th>3</th>\n",
       "      <td>20200104</td>\n",
       "      <td>4</td>\n",
       "      <td>1</td>\n",
       "      <td>2020</td>\n",
       "      <td>Saturday</td>\n",
       "    </tr>\n",
       "    <tr>\n",
       "      <th>4</th>\n",
       "      <td>20200105</td>\n",
       "      <td>5</td>\n",
       "      <td>1</td>\n",
       "      <td>2020</td>\n",
       "      <td>Sunday</td>\n",
       "    </tr>\n",
       "    <tr>\n",
       "      <th>...</th>\n",
       "      <td>...</td>\n",
       "      <td>...</td>\n",
       "      <td>...</td>\n",
       "      <td>...</td>\n",
       "      <td>...</td>\n",
       "    </tr>\n",
       "    <tr>\n",
       "      <th>472</th>\n",
       "      <td>20210417</td>\n",
       "      <td>17</td>\n",
       "      <td>4</td>\n",
       "      <td>2021</td>\n",
       "      <td>Saturday</td>\n",
       "    </tr>\n",
       "    <tr>\n",
       "      <th>473</th>\n",
       "      <td>20210418</td>\n",
       "      <td>18</td>\n",
       "      <td>4</td>\n",
       "      <td>2021</td>\n",
       "      <td>Sunday</td>\n",
       "    </tr>\n",
       "    <tr>\n",
       "      <th>474</th>\n",
       "      <td>20210419</td>\n",
       "      <td>19</td>\n",
       "      <td>4</td>\n",
       "      <td>2021</td>\n",
       "      <td>Monday</td>\n",
       "    </tr>\n",
       "    <tr>\n",
       "      <th>475</th>\n",
       "      <td>20210420</td>\n",
       "      <td>20</td>\n",
       "      <td>4</td>\n",
       "      <td>2021</td>\n",
       "      <td>Tuesday</td>\n",
       "    </tr>\n",
       "    <tr>\n",
       "      <th>476</th>\n",
       "      <td>20210421</td>\n",
       "      <td>21</td>\n",
       "      <td>4</td>\n",
       "      <td>2021</td>\n",
       "      <td>Wednesday</td>\n",
       "    </tr>\n",
       "  </tbody>\n",
       "</table>\n",
       "<p>477 rows × 5 columns</p>\n",
       "</div>"
      ],
      "text/plain": [
       "      date_id  day  month  year    weekday\n",
       "0    20200101    1      1  2020  Wednesday\n",
       "1    20200102    2      1  2020   Thursday\n",
       "2    20200103    3      1  2020     Friday\n",
       "3    20200104    4      1  2020   Saturday\n",
       "4    20200105    5      1  2020     Sunday\n",
       "..        ...  ...    ...   ...        ...\n",
       "472  20210417   17      4  2021   Saturday\n",
       "473  20210418   18      4  2021     Sunday\n",
       "474  20210419   19      4  2021     Monday\n",
       "475  20210420   20      4  2021    Tuesday\n",
       "476  20210421   21      4  2021  Wednesday\n",
       "\n",
       "[477 rows x 5 columns]"
      ]
     },
     "execution_count": 56,
     "metadata": {},
     "output_type": "execute_result"
    }
   ],
   "source": [
    "date_dim"
   ]
  },
  {
   "cell_type": "markdown",
   "metadata": {},
   "source": [
    "#### 5.f Create covid-19 fact table"
   ]
  },
  {
   "cell_type": "code",
   "execution_count": 58,
   "metadata": {},
   "outputs": [],
   "source": [
    "NYC_COV19_df1=NYC_COV19_df.copy()\n",
    "NYC_COV19_df1['test_date']=NYC_COV19_df['test_date'].str[0:10]\n",
    "NYC_COV19_df1['date_id']=NYC_COV19_df['test_date'].str[0:4]+NYC_COV19_df['test_date'].str[5:7]+NYC_COV19_df['test_date'].str[8:10]"
   ]
  },
  {
   "cell_type": "code",
   "execution_count": 59,
   "metadata": {},
   "outputs": [
    {
     "data": {
      "text/plain": [
       "test_date                object\n",
       "county                   object\n",
       "new_positives             int64\n",
       "total_number_of_tests     int64\n",
       "date_id                  object\n",
       "dtype: object"
      ]
     },
     "execution_count": 59,
     "metadata": {},
     "output_type": "execute_result"
    }
   ],
   "source": [
    "for col in [\"new_positives\",\"total_number_of_tests\"]:\n",
    "    NYC_COV19_df1[col]=NYC_COV19_df1[col].astype('int64')\n",
    "NYC_COV19_df1.dtypes"
   ]
  },
  {
   "cell_type": "code",
   "execution_count": 60,
   "metadata": {},
   "outputs": [
    {
     "data": {
      "text/html": [
       "<div>\n",
       "<style scoped>\n",
       "    .dataframe tbody tr th:only-of-type {\n",
       "        vertical-align: middle;\n",
       "    }\n",
       "\n",
       "    .dataframe tbody tr th {\n",
       "        vertical-align: top;\n",
       "    }\n",
       "\n",
       "    .dataframe thead th {\n",
       "        text-align: right;\n",
       "    }\n",
       "</style>\n",
       "<table border=\"1\" class=\"dataframe\">\n",
       "  <thead>\n",
       "    <tr style=\"text-align: right;\">\n",
       "      <th></th>\n",
       "      <th>test_date</th>\n",
       "      <th>county</th>\n",
       "      <th>new_positives</th>\n",
       "      <th>total_number_of_tests</th>\n",
       "      <th>date_id</th>\n",
       "      <th>day</th>\n",
       "      <th>month</th>\n",
       "      <th>year</th>\n",
       "      <th>weekday</th>\n",
       "      <th>loc_id</th>\n",
       "      <th>borough</th>\n",
       "    </tr>\n",
       "  </thead>\n",
       "  <tbody>\n",
       "    <tr>\n",
       "      <th>0</th>\n",
       "      <td>2020-03-01</td>\n",
       "      <td>BRONX</td>\n",
       "      <td>0</td>\n",
       "      <td>0</td>\n",
       "      <td>20200301</td>\n",
       "      <td>1</td>\n",
       "      <td>3</td>\n",
       "      <td>2020</td>\n",
       "      <td>Sunday</td>\n",
       "      <td>50</td>\n",
       "      <td>BRONX</td>\n",
       "    </tr>\n",
       "    <tr>\n",
       "      <th>1</th>\n",
       "      <td>2020-03-02</td>\n",
       "      <td>BRONX</td>\n",
       "      <td>0</td>\n",
       "      <td>0</td>\n",
       "      <td>20200302</td>\n",
       "      <td>2</td>\n",
       "      <td>3</td>\n",
       "      <td>2020</td>\n",
       "      <td>Monday</td>\n",
       "      <td>50</td>\n",
       "      <td>BRONX</td>\n",
       "    </tr>\n",
       "    <tr>\n",
       "      <th>2</th>\n",
       "      <td>2020-03-03</td>\n",
       "      <td>BRONX</td>\n",
       "      <td>0</td>\n",
       "      <td>1</td>\n",
       "      <td>20200303</td>\n",
       "      <td>3</td>\n",
       "      <td>3</td>\n",
       "      <td>2020</td>\n",
       "      <td>Tuesday</td>\n",
       "      <td>50</td>\n",
       "      <td>BRONX</td>\n",
       "    </tr>\n",
       "    <tr>\n",
       "      <th>3</th>\n",
       "      <td>2020-03-04</td>\n",
       "      <td>BRONX</td>\n",
       "      <td>0</td>\n",
       "      <td>0</td>\n",
       "      <td>20200304</td>\n",
       "      <td>4</td>\n",
       "      <td>3</td>\n",
       "      <td>2020</td>\n",
       "      <td>Wednesday</td>\n",
       "      <td>50</td>\n",
       "      <td>BRONX</td>\n",
       "    </tr>\n",
       "    <tr>\n",
       "      <th>4</th>\n",
       "      <td>2020-03-05</td>\n",
       "      <td>BRONX</td>\n",
       "      <td>0</td>\n",
       "      <td>5</td>\n",
       "      <td>20200305</td>\n",
       "      <td>5</td>\n",
       "      <td>3</td>\n",
       "      <td>2020</td>\n",
       "      <td>Thursday</td>\n",
       "      <td>50</td>\n",
       "      <td>BRONX</td>\n",
       "    </tr>\n",
       "    <tr>\n",
       "      <th>...</th>\n",
       "      <td>...</td>\n",
       "      <td>...</td>\n",
       "      <td>...</td>\n",
       "      <td>...</td>\n",
       "      <td>...</td>\n",
       "      <td>...</td>\n",
       "      <td>...</td>\n",
       "      <td>...</td>\n",
       "      <td>...</td>\n",
       "      <td>...</td>\n",
       "      <td>...</td>\n",
       "    </tr>\n",
       "    <tr>\n",
       "      <th>2080</th>\n",
       "      <td>2021-04-17</td>\n",
       "      <td>STATEN ISLAND</td>\n",
       "      <td>250</td>\n",
       "      <td>7083</td>\n",
       "      <td>20210417</td>\n",
       "      <td>17</td>\n",
       "      <td>4</td>\n",
       "      <td>2021</td>\n",
       "      <td>Saturday</td>\n",
       "      <td>54</td>\n",
       "      <td>STATEN ISLAND</td>\n",
       "    </tr>\n",
       "    <tr>\n",
       "      <th>2081</th>\n",
       "      <td>2021-04-18</td>\n",
       "      <td>STATEN ISLAND</td>\n",
       "      <td>206</td>\n",
       "      <td>4749</td>\n",
       "      <td>20210418</td>\n",
       "      <td>18</td>\n",
       "      <td>4</td>\n",
       "      <td>2021</td>\n",
       "      <td>Sunday</td>\n",
       "      <td>54</td>\n",
       "      <td>STATEN ISLAND</td>\n",
       "    </tr>\n",
       "    <tr>\n",
       "      <th>2082</th>\n",
       "      <td>2021-04-19</td>\n",
       "      <td>STATEN ISLAND</td>\n",
       "      <td>187</td>\n",
       "      <td>3561</td>\n",
       "      <td>20210419</td>\n",
       "      <td>19</td>\n",
       "      <td>4</td>\n",
       "      <td>2021</td>\n",
       "      <td>Monday</td>\n",
       "      <td>54</td>\n",
       "      <td>STATEN ISLAND</td>\n",
       "    </tr>\n",
       "    <tr>\n",
       "      <th>2083</th>\n",
       "      <td>2021-04-20</td>\n",
       "      <td>STATEN ISLAND</td>\n",
       "      <td>161</td>\n",
       "      <td>5209</td>\n",
       "      <td>20210420</td>\n",
       "      <td>20</td>\n",
       "      <td>4</td>\n",
       "      <td>2021</td>\n",
       "      <td>Tuesday</td>\n",
       "      <td>54</td>\n",
       "      <td>STATEN ISLAND</td>\n",
       "    </tr>\n",
       "    <tr>\n",
       "      <th>2084</th>\n",
       "      <td>2021-04-21</td>\n",
       "      <td>STATEN ISLAND</td>\n",
       "      <td>197</td>\n",
       "      <td>7130</td>\n",
       "      <td>20210421</td>\n",
       "      <td>21</td>\n",
       "      <td>4</td>\n",
       "      <td>2021</td>\n",
       "      <td>Wednesday</td>\n",
       "      <td>54</td>\n",
       "      <td>STATEN ISLAND</td>\n",
       "    </tr>\n",
       "  </tbody>\n",
       "</table>\n",
       "<p>2085 rows × 11 columns</p>\n",
       "</div>"
      ],
      "text/plain": [
       "       test_date         county  new_positives  total_number_of_tests  \\\n",
       "0     2020-03-01          BRONX              0                      0   \n",
       "1     2020-03-02          BRONX              0                      0   \n",
       "2     2020-03-03          BRONX              0                      1   \n",
       "3     2020-03-04          BRONX              0                      0   \n",
       "4     2020-03-05          BRONX              0                      5   \n",
       "...          ...            ...            ...                    ...   \n",
       "2080  2021-04-17  STATEN ISLAND            250                   7083   \n",
       "2081  2021-04-18  STATEN ISLAND            206                   4749   \n",
       "2082  2021-04-19  STATEN ISLAND            187                   3561   \n",
       "2083  2021-04-20  STATEN ISLAND            161                   5209   \n",
       "2084  2021-04-21  STATEN ISLAND            197                   7130   \n",
       "\n",
       "       date_id  day  month  year    weekday  loc_id        borough  \n",
       "0     20200301    1      3  2020     Sunday      50          BRONX  \n",
       "1     20200302    2      3  2020     Monday      50          BRONX  \n",
       "2     20200303    3      3  2020    Tuesday      50          BRONX  \n",
       "3     20200304    4      3  2020  Wednesday      50          BRONX  \n",
       "4     20200305    5      3  2020   Thursday      50          BRONX  \n",
       "...        ...  ...    ...   ...        ...     ...            ...  \n",
       "2080  20210417   17      4  2021   Saturday      54  STATEN ISLAND  \n",
       "2081  20210418   18      4  2021     Sunday      54  STATEN ISLAND  \n",
       "2082  20210419   19      4  2021     Monday      54  STATEN ISLAND  \n",
       "2083  20210420   20      4  2021    Tuesday      54  STATEN ISLAND  \n",
       "2084  20210421   21      4  2021  Wednesday      54  STATEN ISLAND  \n",
       "\n",
       "[2085 rows x 11 columns]"
      ]
     },
     "execution_count": 60,
     "metadata": {},
     "output_type": "execute_result"
    }
   ],
   "source": [
    "NYC_COV19_df1= NYC_COV19_df1.merge(date_dim, left_on='date_id', right_on='date_id',\n",
    "                  how='inner')\n",
    "NYC_COV19_df1= NYC_COV19_df1.merge(loc_dim, left_on='county', right_on='borough',\n",
    "                  how='inner')\n",
    "NYC_COV19_df1"
   ]
  },
  {
   "cell_type": "code",
   "execution_count": 61,
   "metadata": {},
   "outputs": [],
   "source": [
    "NYC_COV19_fact=NYC_COV19_df1.drop([\"test_date\",\"county\",\"day\",\"month\",\"year\",\"weekday\",\"borough\"], axis=1)"
   ]
  },
  {
   "cell_type": "code",
   "execution_count": 62,
   "metadata": {},
   "outputs": [
    {
     "data": {
      "text/html": [
       "<div>\n",
       "<style scoped>\n",
       "    .dataframe tbody tr th:only-of-type {\n",
       "        vertical-align: middle;\n",
       "    }\n",
       "\n",
       "    .dataframe tbody tr th {\n",
       "        vertical-align: top;\n",
       "    }\n",
       "\n",
       "    .dataframe thead th {\n",
       "        text-align: right;\n",
       "    }\n",
       "</style>\n",
       "<table border=\"1\" class=\"dataframe\">\n",
       "  <thead>\n",
       "    <tr style=\"text-align: right;\">\n",
       "      <th></th>\n",
       "      <th>new_positives</th>\n",
       "      <th>total_number_of_tests</th>\n",
       "      <th>date_id</th>\n",
       "      <th>loc_id</th>\n",
       "    </tr>\n",
       "  </thead>\n",
       "  <tbody>\n",
       "    <tr>\n",
       "      <th>0</th>\n",
       "      <td>0</td>\n",
       "      <td>0</td>\n",
       "      <td>20200301</td>\n",
       "      <td>50</td>\n",
       "    </tr>\n",
       "    <tr>\n",
       "      <th>1</th>\n",
       "      <td>0</td>\n",
       "      <td>0</td>\n",
       "      <td>20200302</td>\n",
       "      <td>50</td>\n",
       "    </tr>\n",
       "    <tr>\n",
       "      <th>2</th>\n",
       "      <td>0</td>\n",
       "      <td>1</td>\n",
       "      <td>20200303</td>\n",
       "      <td>50</td>\n",
       "    </tr>\n",
       "    <tr>\n",
       "      <th>3</th>\n",
       "      <td>0</td>\n",
       "      <td>0</td>\n",
       "      <td>20200304</td>\n",
       "      <td>50</td>\n",
       "    </tr>\n",
       "    <tr>\n",
       "      <th>4</th>\n",
       "      <td>0</td>\n",
       "      <td>5</td>\n",
       "      <td>20200305</td>\n",
       "      <td>50</td>\n",
       "    </tr>\n",
       "    <tr>\n",
       "      <th>...</th>\n",
       "      <td>...</td>\n",
       "      <td>...</td>\n",
       "      <td>...</td>\n",
       "      <td>...</td>\n",
       "    </tr>\n",
       "    <tr>\n",
       "      <th>2080</th>\n",
       "      <td>250</td>\n",
       "      <td>7083</td>\n",
       "      <td>20210417</td>\n",
       "      <td>54</td>\n",
       "    </tr>\n",
       "    <tr>\n",
       "      <th>2081</th>\n",
       "      <td>206</td>\n",
       "      <td>4749</td>\n",
       "      <td>20210418</td>\n",
       "      <td>54</td>\n",
       "    </tr>\n",
       "    <tr>\n",
       "      <th>2082</th>\n",
       "      <td>187</td>\n",
       "      <td>3561</td>\n",
       "      <td>20210419</td>\n",
       "      <td>54</td>\n",
       "    </tr>\n",
       "    <tr>\n",
       "      <th>2083</th>\n",
       "      <td>161</td>\n",
       "      <td>5209</td>\n",
       "      <td>20210420</td>\n",
       "      <td>54</td>\n",
       "    </tr>\n",
       "    <tr>\n",
       "      <th>2084</th>\n",
       "      <td>197</td>\n",
       "      <td>7130</td>\n",
       "      <td>20210421</td>\n",
       "      <td>54</td>\n",
       "    </tr>\n",
       "  </tbody>\n",
       "</table>\n",
       "<p>2085 rows × 4 columns</p>\n",
       "</div>"
      ],
      "text/plain": [
       "      new_positives  total_number_of_tests   date_id  loc_id\n",
       "0                 0                      0  20200301      50\n",
       "1                 0                      0  20200302      50\n",
       "2                 0                      1  20200303      50\n",
       "3                 0                      0  20200304      50\n",
       "4                 0                      5  20200305      50\n",
       "...             ...                    ...       ...     ...\n",
       "2080            250                   7083  20210417      54\n",
       "2081            206                   4749  20210418      54\n",
       "2082            187                   3561  20210419      54\n",
       "2083            161                   5209  20210420      54\n",
       "2084            197                   7130  20210421      54\n",
       "\n",
       "[2085 rows x 4 columns]"
      ]
     },
     "execution_count": 62,
     "metadata": {},
     "output_type": "execute_result"
    }
   ],
   "source": [
    "NYC_COV19_fact"
   ]
  },
  {
   "cell_type": "markdown",
   "metadata": {},
   "source": [
    "#### 5.g Create crime fact table"
   ]
  },
  {
   "cell_type": "code",
   "execution_count": 63,
   "metadata": {},
   "outputs": [],
   "source": [
    "NYPD_COMPL_df1=NYPD_COMPL_df.copy()\n",
    "NYPD_COMPL_df1['cmplnt_fr_dt']=NYPD_COMPL_df1['cmplnt_fr_dt'].str[0:10]\n",
    "NYPD_COMPL_df1['date_id']=NYPD_COMPL_df1['cmplnt_fr_dt'].str[0:4]+NYPD_COMPL_df1['cmplnt_fr_dt'].str[5:7]+NYPD_COMPL_df1['cmplnt_fr_dt'].str[8:10]"
   ]
  },
  {
   "cell_type": "code",
   "execution_count": 1,
   "metadata": {},
   "outputs": [
    {
     "ename": "NameError",
     "evalue": "name 'NYPD_COMPL_df1' is not defined",
     "output_type": "error",
     "traceback": [
      "\u001b[1;31m---------------------------------------------------------------------------\u001b[0m",
      "\u001b[1;31mNameError\u001b[0m                                 Traceback (most recent call last)",
      "\u001b[1;32m<ipython-input-1-7d5e4b7d9374>\u001b[0m in \u001b[0;36m<module>\u001b[1;34m\u001b[0m\n\u001b[1;32m----> 1\u001b[1;33m NYPD_COMPL_df1= NYPD_COMPL_df1.merge(date_dim, left_on='date_id', right_on='date_id',\n\u001b[0m\u001b[0;32m      2\u001b[0m                   how='inner')\n\u001b[0;32m      3\u001b[0m NYPD_COMPL_df1= NYPD_COMPL_df1.merge(loc_dim, left_on='boro_nm', right_on='borough',\n\u001b[0;32m      4\u001b[0m                   how='inner')\n\u001b[0;32m      5\u001b[0m NYPD_COMPL_df1= NYPD_COMPL_df1.merge(offence_dim, left_on=[\"law_cat_cd\",\"ofns_desc\"], \n",
      "\u001b[1;31mNameError\u001b[0m: name 'NYPD_COMPL_df1' is not defined"
     ]
    }
   ],
   "source": [
    "NYPD_COMPL_df1= NYPD_COMPL_df1.merge(date_dim, left_on='date_id', right_on='date_id',\n",
    "                  how='inner')\n",
    "NYPD_COMPL_df1= NYPD_COMPL_df1.merge(loc_dim, left_on='boro_nm', right_on='borough',\n",
    "                  how='inner')\n",
    "NYPD_COMPL_df1= NYPD_COMPL_df1.merge(offence_dim, left_on=[\"law_cat_cd\",\"ofns_desc\"], \n",
    "                                     right_on=[\"law_cat_cd\",\"ofns_desc\"],\n",
    "                  how='inner')\n",
    "NYPD_COMPL_df1= NYPD_COMPL_df1.merge(victim_dim, left_on=[\"vic_age_group\",\"vic_race\",\"vic_sex\"], \n",
    "                                     right_on=[\"vic_age_group\",\"vic_race\",\"vic_sex\"],\n",
    "                  how='inner')\n",
    "NYPD_COMPL_df1= NYPD_COMPL_df1.merge(suspect_dim, left_on=[\"susp_age_group\",\"susp_race\",\"susp_sex\"], \n",
    "                                     right_on=[\"susp_age_group\",\"susp_race\",\"susp_sex\"],\n",
    "                  how='inner')\n",
    "NYPD_COMPL_df1"
   ]
  },
  {
   "cell_type": "code",
   "execution_count": null,
   "metadata": {},
   "outputs": [],
   "source": [
    "NYPD_COMPL_fact=NYPD_COMPL_df1.drop([\"cmplnt_fr_dt\",\"boro_nm\",\"law_cat_cd\",\"ofns_desc\",\"susp_age_group\",\n",
    "                                    \"susp_race\",\"susp_sex\",\"vic_age_group\",\"vic_race\",\"vic_sex\",\n",
    "                                    \"day\",\"month\",\"year\",\"weekday\",\"borough\"],axis=1)"
   ]
  },
  {
   "cell_type": "code",
   "execution_count": null,
   "metadata": {},
   "outputs": [],
   "source": [
    "NYPD_COMPL_fact"
   ]
  },
  {
   "cell_type": "markdown",
   "metadata": {},
   "source": [
    "## 6.Load Dimensions and Fact Tables to BigQuery "
   ]
  },
  {
   "cell_type": "code",
   "execution_count": null,
   "metadata": {},
   "outputs": [],
   "source": [
    "key_path='crime-covid-178c3ff212a1.json'\n",
    "# fill in file path to your key here\n",
    "credentials = service_account.Credentials.from_service_account_file(\n",
    "    key_path, scopes=[\"https://www.googleapis.com/auth/cloud-platform\"],)\n",
    "client = bigquery.Client(credentials=credentials, project=credentials.project_id)"
   ]
  },
  {
   "cell_type": "code",
   "execution_count": 67,
   "metadata": {},
   "outputs": [],
   "source": [
    "def load_df_to_bigquery(df, table_name):\n",
    "    dataset_id =  'crime-covid:crime_covid_data'  \n",
    "    dataset_ref = client.dataset(dataset_id)\n",
    "    job_config = bigquery.LoadJobConfig()\n",
    "    job_config.autodetect = True\n",
    "    job_config.write_disposition = \"WRITE_TRUNCATE\"\n",
    "    \n",
    "    upload_table_name = 'crime_covid_data.'+str(table_name)\n",
    "    \n",
    "    load_job = client.load_table_from_dataframe(df, upload_table_name,\n",
    "                                                job_config=job_config)\n",
    "    \n",
    "    print(\"Starting job {}\".format(load_job)) "
   ]
  },
  {
   "cell_type": "code",
   "execution_count": 68,
   "metadata": {},
   "outputs": [
    {
     "name": "stdout",
     "output_type": "stream",
     "text": [
      "Starting job <google.cloud.bigquery.job.load.LoadJob object at 0x7f7f1f099700>\n",
      "Starting job <google.cloud.bigquery.job.load.LoadJob object at 0x7f7f1f0993a0>\n",
      "Starting job <google.cloud.bigquery.job.load.LoadJob object at 0x7f7f1f4a4ac0>\n",
      "Starting job <google.cloud.bigquery.job.load.LoadJob object at 0x7f7f1f554490>\n",
      "Starting job <google.cloud.bigquery.job.load.LoadJob object at 0x7f7f1f554670>\n",
      "Starting job <google.cloud.bigquery.job.load.LoadJob object at 0x7f7f1f554a90>\n",
      "Starting job <google.cloud.bigquery.job.load.LoadJob object at 0x7f7f1f554e80>\n"
     ]
    }
   ],
   "source": [
    "load_df_to_bigquery(df=date_dim, table_name='date_dim')\n",
    "load_df_to_bigquery(df=loc_dim, table_name='loc_dim')\n",
    "load_df_to_bigquery(df=offence_dim, table_name='offence_dim')\n",
    "load_df_to_bigquery(df=victim_dim, table_name='victim_dim')\n",
    "load_df_to_bigquery(df=suspect_dim, table_name='suspect_dim')\n",
    "load_df_to_bigquery(df=NYC_COV19_fact, table_name='NYC_COV19_fact')\n",
    "load_df_to_bigquery(df=NYPD_COMPL_fact, table_name='NYPD_COMPL_fact')"
   ]
  },
  {
   "cell_type": "code",
   "execution_count": null,
   "metadata": {},
   "outputs": [],
   "source": []
  }
 ],
 "metadata": {
  "kernelspec": {
   "display_name": "Python 3",
   "language": "python",
   "name": "python3"
  },
  "language_info": {
   "codemirror_mode": {
    "name": "ipython",
    "version": 3
   },
   "file_extension": ".py",
   "mimetype": "text/x-python",
   "name": "python",
   "nbconvert_exporter": "python",
   "pygments_lexer": "ipython3",
   "version": "3.8.5"
  }
 },
 "nbformat": 4,
 "nbformat_minor": 4
}
